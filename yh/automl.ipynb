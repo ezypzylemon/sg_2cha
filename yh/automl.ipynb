{
 "cells": [
  {
   "cell_type": "code",
   "execution_count": 2,
   "metadata": {},
   "outputs": [],
   "source": [
    "import pandas as pd\n",
    "\n",
    "# 쇼핑몰정제.csv 파일을 data로 로드\n",
    "data = pd.read_csv('/Users/pjh_air/Documents/GitHub/sg_2cha/jh/0108_정제/쇼핑몰이탈정제.csv', encoding='utf-8-sig')\n",
    "\n"
   ]
  },
  {
   "cell_type": "code",
   "execution_count": 3,
   "metadata": {},
   "outputs": [
    {
     "data": {
      "text/html": [
       "<style type=\"text/css\">\n",
       "#T_08bf3_row9_col1 {\n",
       "  background-color: lightgreen;\n",
       "}\n",
       "</style>\n",
       "<table id=\"T_08bf3\">\n",
       "  <thead>\n",
       "    <tr>\n",
       "      <th class=\"blank level0\" >&nbsp;</th>\n",
       "      <th id=\"T_08bf3_level0_col0\" class=\"col_heading level0 col0\" >Description</th>\n",
       "      <th id=\"T_08bf3_level0_col1\" class=\"col_heading level0 col1\" >Value</th>\n",
       "    </tr>\n",
       "  </thead>\n",
       "  <tbody>\n",
       "    <tr>\n",
       "      <th id=\"T_08bf3_level0_row0\" class=\"row_heading level0 row0\" >0</th>\n",
       "      <td id=\"T_08bf3_row0_col0\" class=\"data row0 col0\" >Session id</td>\n",
       "      <td id=\"T_08bf3_row0_col1\" class=\"data row0 col1\" >42</td>\n",
       "    </tr>\n",
       "    <tr>\n",
       "      <th id=\"T_08bf3_level0_row1\" class=\"row_heading level0 row1\" >1</th>\n",
       "      <td id=\"T_08bf3_row1_col0\" class=\"data row1 col0\" >Target</td>\n",
       "      <td id=\"T_08bf3_row1_col1\" class=\"data row1 col1\" >이탈 여부</td>\n",
       "    </tr>\n",
       "    <tr>\n",
       "      <th id=\"T_08bf3_level0_row2\" class=\"row_heading level0 row2\" >2</th>\n",
       "      <td id=\"T_08bf3_row2_col0\" class=\"data row2 col0\" >Target type</td>\n",
       "      <td id=\"T_08bf3_row2_col1\" class=\"data row2 col1\" >Binary</td>\n",
       "    </tr>\n",
       "    <tr>\n",
       "      <th id=\"T_08bf3_level0_row3\" class=\"row_heading level0 row3\" >3</th>\n",
       "      <td id=\"T_08bf3_row3_col0\" class=\"data row3 col0\" >Original data shape</td>\n",
       "      <td id=\"T_08bf3_row3_col1\" class=\"data row3 col1\" >(5379, 20)</td>\n",
       "    </tr>\n",
       "    <tr>\n",
       "      <th id=\"T_08bf3_level0_row4\" class=\"row_heading level0 row4\" >4</th>\n",
       "      <td id=\"T_08bf3_row4_col0\" class=\"data row4 col0\" >Transformed data shape</td>\n",
       "      <td id=\"T_08bf3_row4_col1\" class=\"data row4 col1\" >(5379, 35)</td>\n",
       "    </tr>\n",
       "    <tr>\n",
       "      <th id=\"T_08bf3_level0_row5\" class=\"row_heading level0 row5\" >5</th>\n",
       "      <td id=\"T_08bf3_row5_col0\" class=\"data row5 col0\" >Transformed train set shape</td>\n",
       "      <td id=\"T_08bf3_row5_col1\" class=\"data row5 col1\" >(3765, 35)</td>\n",
       "    </tr>\n",
       "    <tr>\n",
       "      <th id=\"T_08bf3_level0_row6\" class=\"row_heading level0 row6\" >6</th>\n",
       "      <td id=\"T_08bf3_row6_col0\" class=\"data row6 col0\" >Transformed test set shape</td>\n",
       "      <td id=\"T_08bf3_row6_col1\" class=\"data row6 col1\" >(1614, 35)</td>\n",
       "    </tr>\n",
       "    <tr>\n",
       "      <th id=\"T_08bf3_level0_row7\" class=\"row_heading level0 row7\" >7</th>\n",
       "      <td id=\"T_08bf3_row7_col0\" class=\"data row7 col0\" >Numeric features</td>\n",
       "      <td id=\"T_08bf3_row7_col1\" class=\"data row7 col1\" >14</td>\n",
       "    </tr>\n",
       "    <tr>\n",
       "      <th id=\"T_08bf3_level0_row8\" class=\"row_heading level0 row8\" >8</th>\n",
       "      <td id=\"T_08bf3_row8_col0\" class=\"data row8 col0\" >Categorical features</td>\n",
       "      <td id=\"T_08bf3_row8_col1\" class=\"data row8 col1\" >5</td>\n",
       "    </tr>\n",
       "    <tr>\n",
       "      <th id=\"T_08bf3_level0_row9\" class=\"row_heading level0 row9\" >9</th>\n",
       "      <td id=\"T_08bf3_row9_col0\" class=\"data row9 col0\" >Preprocess</td>\n",
       "      <td id=\"T_08bf3_row9_col1\" class=\"data row9 col1\" >True</td>\n",
       "    </tr>\n",
       "    <tr>\n",
       "      <th id=\"T_08bf3_level0_row10\" class=\"row_heading level0 row10\" >10</th>\n",
       "      <td id=\"T_08bf3_row10_col0\" class=\"data row10 col0\" >Imputation type</td>\n",
       "      <td id=\"T_08bf3_row10_col1\" class=\"data row10 col1\" >simple</td>\n",
       "    </tr>\n",
       "    <tr>\n",
       "      <th id=\"T_08bf3_level0_row11\" class=\"row_heading level0 row11\" >11</th>\n",
       "      <td id=\"T_08bf3_row11_col0\" class=\"data row11 col0\" >Numeric imputation</td>\n",
       "      <td id=\"T_08bf3_row11_col1\" class=\"data row11 col1\" >mean</td>\n",
       "    </tr>\n",
       "    <tr>\n",
       "      <th id=\"T_08bf3_level0_row12\" class=\"row_heading level0 row12\" >12</th>\n",
       "      <td id=\"T_08bf3_row12_col0\" class=\"data row12 col0\" >Categorical imputation</td>\n",
       "      <td id=\"T_08bf3_row12_col1\" class=\"data row12 col1\" >mode</td>\n",
       "    </tr>\n",
       "    <tr>\n",
       "      <th id=\"T_08bf3_level0_row13\" class=\"row_heading level0 row13\" >13</th>\n",
       "      <td id=\"T_08bf3_row13_col0\" class=\"data row13 col0\" >Maximum one-hot encoding</td>\n",
       "      <td id=\"T_08bf3_row13_col1\" class=\"data row13 col1\" >25</td>\n",
       "    </tr>\n",
       "    <tr>\n",
       "      <th id=\"T_08bf3_level0_row14\" class=\"row_heading level0 row14\" >14</th>\n",
       "      <td id=\"T_08bf3_row14_col0\" class=\"data row14 col0\" >Encoding method</td>\n",
       "      <td id=\"T_08bf3_row14_col1\" class=\"data row14 col1\" >None</td>\n",
       "    </tr>\n",
       "    <tr>\n",
       "      <th id=\"T_08bf3_level0_row15\" class=\"row_heading level0 row15\" >15</th>\n",
       "      <td id=\"T_08bf3_row15_col0\" class=\"data row15 col0\" >Fold Generator</td>\n",
       "      <td id=\"T_08bf3_row15_col1\" class=\"data row15 col1\" >StratifiedKFold</td>\n",
       "    </tr>\n",
       "    <tr>\n",
       "      <th id=\"T_08bf3_level0_row16\" class=\"row_heading level0 row16\" >16</th>\n",
       "      <td id=\"T_08bf3_row16_col0\" class=\"data row16 col0\" >Fold Number</td>\n",
       "      <td id=\"T_08bf3_row16_col1\" class=\"data row16 col1\" >10</td>\n",
       "    </tr>\n",
       "    <tr>\n",
       "      <th id=\"T_08bf3_level0_row17\" class=\"row_heading level0 row17\" >17</th>\n",
       "      <td id=\"T_08bf3_row17_col0\" class=\"data row17 col0\" >CPU Jobs</td>\n",
       "      <td id=\"T_08bf3_row17_col1\" class=\"data row17 col1\" >-1</td>\n",
       "    </tr>\n",
       "    <tr>\n",
       "      <th id=\"T_08bf3_level0_row18\" class=\"row_heading level0 row18\" >18</th>\n",
       "      <td id=\"T_08bf3_row18_col0\" class=\"data row18 col0\" >Use GPU</td>\n",
       "      <td id=\"T_08bf3_row18_col1\" class=\"data row18 col1\" >False</td>\n",
       "    </tr>\n",
       "    <tr>\n",
       "      <th id=\"T_08bf3_level0_row19\" class=\"row_heading level0 row19\" >19</th>\n",
       "      <td id=\"T_08bf3_row19_col0\" class=\"data row19 col0\" >Log Experiment</td>\n",
       "      <td id=\"T_08bf3_row19_col1\" class=\"data row19 col1\" >False</td>\n",
       "    </tr>\n",
       "    <tr>\n",
       "      <th id=\"T_08bf3_level0_row20\" class=\"row_heading level0 row20\" >20</th>\n",
       "      <td id=\"T_08bf3_row20_col0\" class=\"data row20 col0\" >Experiment Name</td>\n",
       "      <td id=\"T_08bf3_row20_col1\" class=\"data row20 col1\" >clf-default-name</td>\n",
       "    </tr>\n",
       "    <tr>\n",
       "      <th id=\"T_08bf3_level0_row21\" class=\"row_heading level0 row21\" >21</th>\n",
       "      <td id=\"T_08bf3_row21_col0\" class=\"data row21 col0\" >USI</td>\n",
       "      <td id=\"T_08bf3_row21_col1\" class=\"data row21 col1\" >7bb2</td>\n",
       "    </tr>\n",
       "  </tbody>\n",
       "</table>\n"
      ],
      "text/plain": [
       "<pandas.io.formats.style.Styler at 0x3045c3ac0>"
      ]
     },
     "metadata": {},
     "output_type": "display_data"
    }
   ],
   "source": [
    "from pycaret.classification import setup, compare_models\n",
    "\n",
    "# PyCaret 환경 설정\n",
    "clf = setup(data=data, target='이탈 여부', session_id=42)\n"
   ]
  },
  {
   "cell_type": "code",
   "execution_count": 4,
   "metadata": {},
   "outputs": [
    {
     "data": {
      "text/html": [],
      "text/plain": [
       "<IPython.core.display.HTML object>"
      ]
     },
     "metadata": {},
     "output_type": "display_data"
    },
    {
     "data": {
      "text/html": [
       "<style type=\"text/css\">\n",
       "#T_96d5e th {\n",
       "  text-align: left;\n",
       "}\n",
       "#T_96d5e_row0_col0, #T_96d5e_row0_col2, #T_96d5e_row0_col4, #T_96d5e_row1_col0, #T_96d5e_row1_col1, #T_96d5e_row1_col3, #T_96d5e_row1_col5, #T_96d5e_row1_col6, #T_96d5e_row1_col7, #T_96d5e_row2_col0, #T_96d5e_row2_col1, #T_96d5e_row2_col2, #T_96d5e_row2_col3, #T_96d5e_row2_col4, #T_96d5e_row2_col5, #T_96d5e_row2_col6, #T_96d5e_row2_col7, #T_96d5e_row3_col0, #T_96d5e_row3_col1, #T_96d5e_row3_col2, #T_96d5e_row3_col3, #T_96d5e_row3_col4, #T_96d5e_row3_col5, #T_96d5e_row3_col6, #T_96d5e_row3_col7, #T_96d5e_row4_col0, #T_96d5e_row4_col1, #T_96d5e_row4_col2, #T_96d5e_row4_col3, #T_96d5e_row4_col4, #T_96d5e_row4_col5, #T_96d5e_row4_col6, #T_96d5e_row4_col7, #T_96d5e_row5_col0, #T_96d5e_row5_col1, #T_96d5e_row5_col2, #T_96d5e_row5_col3, #T_96d5e_row5_col4, #T_96d5e_row5_col5, #T_96d5e_row5_col6, #T_96d5e_row5_col7, #T_96d5e_row6_col0, #T_96d5e_row6_col1, #T_96d5e_row6_col2, #T_96d5e_row6_col3, #T_96d5e_row6_col4, #T_96d5e_row6_col5, #T_96d5e_row6_col6, #T_96d5e_row6_col7, #T_96d5e_row7_col0, #T_96d5e_row7_col1, #T_96d5e_row7_col2, #T_96d5e_row7_col3, #T_96d5e_row7_col4, #T_96d5e_row7_col5, #T_96d5e_row7_col6, #T_96d5e_row7_col7, #T_96d5e_row8_col0, #T_96d5e_row8_col1, #T_96d5e_row8_col2, #T_96d5e_row8_col3, #T_96d5e_row8_col4, #T_96d5e_row8_col5, #T_96d5e_row8_col6, #T_96d5e_row8_col7, #T_96d5e_row9_col0, #T_96d5e_row9_col1, #T_96d5e_row9_col2, #T_96d5e_row9_col3, #T_96d5e_row9_col4, #T_96d5e_row9_col5, #T_96d5e_row9_col6, #T_96d5e_row9_col7, #T_96d5e_row10_col0, #T_96d5e_row10_col1, #T_96d5e_row10_col2, #T_96d5e_row10_col3, #T_96d5e_row10_col4, #T_96d5e_row10_col5, #T_96d5e_row10_col6, #T_96d5e_row10_col7, #T_96d5e_row11_col0, #T_96d5e_row11_col1, #T_96d5e_row11_col2, #T_96d5e_row11_col3, #T_96d5e_row11_col4, #T_96d5e_row11_col5, #T_96d5e_row11_col6, #T_96d5e_row11_col7, #T_96d5e_row12_col0, #T_96d5e_row12_col1, #T_96d5e_row12_col2, #T_96d5e_row12_col3, #T_96d5e_row12_col4, #T_96d5e_row12_col5, #T_96d5e_row12_col6, #T_96d5e_row12_col7, #T_96d5e_row13_col0, #T_96d5e_row13_col1, #T_96d5e_row13_col2, #T_96d5e_row13_col3, #T_96d5e_row13_col4, #T_96d5e_row13_col5, #T_96d5e_row13_col6, #T_96d5e_row13_col7 {\n",
       "  text-align: left;\n",
       "}\n",
       "#T_96d5e_row0_col1, #T_96d5e_row0_col3, #T_96d5e_row0_col5, #T_96d5e_row0_col6, #T_96d5e_row0_col7, #T_96d5e_row1_col2, #T_96d5e_row1_col4 {\n",
       "  text-align: left;\n",
       "  background-color: yellow;\n",
       "}\n",
       "#T_96d5e_row0_col8, #T_96d5e_row1_col8, #T_96d5e_row2_col8, #T_96d5e_row3_col8, #T_96d5e_row4_col8, #T_96d5e_row5_col8, #T_96d5e_row6_col8, #T_96d5e_row7_col8, #T_96d5e_row9_col8, #T_96d5e_row10_col8, #T_96d5e_row11_col8, #T_96d5e_row12_col8, #T_96d5e_row13_col8 {\n",
       "  text-align: left;\n",
       "  background-color: lightgrey;\n",
       "}\n",
       "#T_96d5e_row8_col8 {\n",
       "  text-align: left;\n",
       "  background-color: yellow;\n",
       "  background-color: lightgrey;\n",
       "}\n",
       "</style>\n",
       "<table id=\"T_96d5e\">\n",
       "  <thead>\n",
       "    <tr>\n",
       "      <th class=\"blank level0\" >&nbsp;</th>\n",
       "      <th id=\"T_96d5e_level0_col0\" class=\"col_heading level0 col0\" >Model</th>\n",
       "      <th id=\"T_96d5e_level0_col1\" class=\"col_heading level0 col1\" >Accuracy</th>\n",
       "      <th id=\"T_96d5e_level0_col2\" class=\"col_heading level0 col2\" >AUC</th>\n",
       "      <th id=\"T_96d5e_level0_col3\" class=\"col_heading level0 col3\" >Recall</th>\n",
       "      <th id=\"T_96d5e_level0_col4\" class=\"col_heading level0 col4\" >Prec.</th>\n",
       "      <th id=\"T_96d5e_level0_col5\" class=\"col_heading level0 col5\" >F1</th>\n",
       "      <th id=\"T_96d5e_level0_col6\" class=\"col_heading level0 col6\" >Kappa</th>\n",
       "      <th id=\"T_96d5e_level0_col7\" class=\"col_heading level0 col7\" >MCC</th>\n",
       "      <th id=\"T_96d5e_level0_col8\" class=\"col_heading level0 col8\" >TT (Sec)</th>\n",
       "    </tr>\n",
       "  </thead>\n",
       "  <tbody>\n",
       "    <tr>\n",
       "      <th id=\"T_96d5e_level0_row0\" class=\"row_heading level0 row0\" >lightgbm</th>\n",
       "      <td id=\"T_96d5e_row0_col0\" class=\"data row0 col0\" >Light Gradient Boosting Machine</td>\n",
       "      <td id=\"T_96d5e_row0_col1\" class=\"data row0 col1\" >0.9583</td>\n",
       "      <td id=\"T_96d5e_row0_col2\" class=\"data row0 col2\" >0.9792</td>\n",
       "      <td id=\"T_96d5e_row0_col3\" class=\"data row0 col3\" >0.8049</td>\n",
       "      <td id=\"T_96d5e_row0_col4\" class=\"data row0 col4\" >0.9265</td>\n",
       "      <td id=\"T_96d5e_row0_col5\" class=\"data row0 col5\" >0.8609</td>\n",
       "      <td id=\"T_96d5e_row0_col6\" class=\"data row0 col6\" >0.8365</td>\n",
       "      <td id=\"T_96d5e_row0_col7\" class=\"data row0 col7\" >0.8397</td>\n",
       "      <td id=\"T_96d5e_row0_col8\" class=\"data row0 col8\" >0.2770</td>\n",
       "    </tr>\n",
       "    <tr>\n",
       "      <th id=\"T_96d5e_level0_row1\" class=\"row_heading level0 row1\" >et</th>\n",
       "      <td id=\"T_96d5e_row1_col0\" class=\"data row1 col0\" >Extra Trees Classifier</td>\n",
       "      <td id=\"T_96d5e_row1_col1\" class=\"data row1 col1\" >0.9511</td>\n",
       "      <td id=\"T_96d5e_row1_col2\" class=\"data row1 col2\" >0.9825</td>\n",
       "      <td id=\"T_96d5e_row1_col3\" class=\"data row1 col3\" >0.7172</td>\n",
       "      <td id=\"T_96d5e_row1_col4\" class=\"data row1 col4\" >0.9713</td>\n",
       "      <td id=\"T_96d5e_row1_col5\" class=\"data row1 col5\" >0.8241</td>\n",
       "      <td id=\"T_96d5e_row1_col6\" class=\"data row1 col6\" >0.7966</td>\n",
       "      <td id=\"T_96d5e_row1_col7\" class=\"data row1 col7\" >0.8095</td>\n",
       "      <td id=\"T_96d5e_row1_col8\" class=\"data row1 col8\" >0.0670</td>\n",
       "    </tr>\n",
       "    <tr>\n",
       "      <th id=\"T_96d5e_level0_row2\" class=\"row_heading level0 row2\" >rf</th>\n",
       "      <td id=\"T_96d5e_row2_col0\" class=\"data row2 col0\" >Random Forest Classifier</td>\n",
       "      <td id=\"T_96d5e_row2_col1\" class=\"data row2 col1\" >0.9487</td>\n",
       "      <td id=\"T_96d5e_row2_col2\" class=\"data row2 col2\" >0.9821</td>\n",
       "      <td id=\"T_96d5e_row2_col3\" class=\"data row2 col3\" >0.7174</td>\n",
       "      <td id=\"T_96d5e_row2_col4\" class=\"data row2 col4\" >0.9521</td>\n",
       "      <td id=\"T_96d5e_row2_col5\" class=\"data row2 col5\" >0.8177</td>\n",
       "      <td id=\"T_96d5e_row2_col6\" class=\"data row2 col6\" >0.7886</td>\n",
       "      <td id=\"T_96d5e_row2_col7\" class=\"data row2 col7\" >0.7997</td>\n",
       "      <td id=\"T_96d5e_row2_col8\" class=\"data row2 col8\" >0.0780</td>\n",
       "    </tr>\n",
       "    <tr>\n",
       "      <th id=\"T_96d5e_level0_row3\" class=\"row_heading level0 row3\" >dt</th>\n",
       "      <td id=\"T_96d5e_row3_col0\" class=\"data row3 col0\" >Decision Tree Classifier</td>\n",
       "      <td id=\"T_96d5e_row3_col1\" class=\"data row3 col1\" >0.9264</td>\n",
       "      <td id=\"T_96d5e_row3_col2\" class=\"data row3 col2\" >0.8694</td>\n",
       "      <td id=\"T_96d5e_row3_col3\" class=\"data row3 col3\" >0.7852</td>\n",
       "      <td id=\"T_96d5e_row3_col4\" class=\"data row3 col4\" >0.7674</td>\n",
       "      <td id=\"T_96d5e_row3_col5\" class=\"data row3 col5\" >0.7750</td>\n",
       "      <td id=\"T_96d5e_row3_col6\" class=\"data row3 col6\" >0.7311</td>\n",
       "      <td id=\"T_96d5e_row3_col7\" class=\"data row3 col7\" >0.7320</td>\n",
       "      <td id=\"T_96d5e_row3_col8\" class=\"data row3 col8\" >0.0220</td>\n",
       "    </tr>\n",
       "    <tr>\n",
       "      <th id=\"T_96d5e_level0_row4\" class=\"row_heading level0 row4\" >gbc</th>\n",
       "      <td id=\"T_96d5e_row4_col0\" class=\"data row4 col0\" >Gradient Boosting Classifier</td>\n",
       "      <td id=\"T_96d5e_row4_col1\" class=\"data row4 col1\" >0.9198</td>\n",
       "      <td id=\"T_96d5e_row4_col2\" class=\"data row4 col2\" >0.9385</td>\n",
       "      <td id=\"T_96d5e_row4_col3\" class=\"data row4 col3\" >0.6396</td>\n",
       "      <td id=\"T_96d5e_row4_col4\" class=\"data row4 col4\" >0.8235</td>\n",
       "      <td id=\"T_96d5e_row4_col5\" class=\"data row4 col5\" >0.7184</td>\n",
       "      <td id=\"T_96d5e_row4_col6\" class=\"data row4 col6\" >0.6726</td>\n",
       "      <td id=\"T_96d5e_row4_col7\" class=\"data row4 col7\" >0.6809</td>\n",
       "      <td id=\"T_96d5e_row4_col8\" class=\"data row4 col8\" >0.1530</td>\n",
       "    </tr>\n",
       "    <tr>\n",
       "      <th id=\"T_96d5e_level0_row5\" class=\"row_heading level0 row5\" >ada</th>\n",
       "      <td id=\"T_96d5e_row5_col0\" class=\"data row5 col0\" >Ada Boost Classifier</td>\n",
       "      <td id=\"T_96d5e_row5_col1\" class=\"data row5 col1\" >0.8954</td>\n",
       "      <td id=\"T_96d5e_row5_col2\" class=\"data row5 col2\" >0.9094</td>\n",
       "      <td id=\"T_96d5e_row5_col3\" class=\"data row5 col3\" >0.5751</td>\n",
       "      <td id=\"T_96d5e_row5_col4\" class=\"data row5 col4\" >0.7181</td>\n",
       "      <td id=\"T_96d5e_row5_col5\" class=\"data row5 col5\" >0.6377</td>\n",
       "      <td id=\"T_96d5e_row5_col6\" class=\"data row5 col6\" >0.5775</td>\n",
       "      <td id=\"T_96d5e_row5_col7\" class=\"data row5 col7\" >0.5829</td>\n",
       "      <td id=\"T_96d5e_row5_col8\" class=\"data row5 col8\" >0.0510</td>\n",
       "    </tr>\n",
       "    <tr>\n",
       "      <th id=\"T_96d5e_level0_row6\" class=\"row_heading level0 row6\" >lda</th>\n",
       "      <td id=\"T_96d5e_row6_col0\" class=\"data row6 col0\" >Linear Discriminant Analysis</td>\n",
       "      <td id=\"T_96d5e_row6_col1\" class=\"data row6 col1\" >0.8938</td>\n",
       "      <td id=\"T_96d5e_row6_col2\" class=\"data row6 col2\" >0.8841</td>\n",
       "      <td id=\"T_96d5e_row6_col3\" class=\"data row6 col3\" >0.4990</td>\n",
       "      <td id=\"T_96d5e_row6_col4\" class=\"data row6 col4\" >0.7601</td>\n",
       "      <td id=\"T_96d5e_row6_col5\" class=\"data row6 col5\" >0.6008</td>\n",
       "      <td id=\"T_96d5e_row6_col6\" class=\"data row6 col6\" >0.5427</td>\n",
       "      <td id=\"T_96d5e_row6_col7\" class=\"data row6 col7\" >0.5596</td>\n",
       "      <td id=\"T_96d5e_row6_col8\" class=\"data row6 col8\" >0.0210</td>\n",
       "    </tr>\n",
       "    <tr>\n",
       "      <th id=\"T_96d5e_level0_row7\" class=\"row_heading level0 row7\" >lr</th>\n",
       "      <td id=\"T_96d5e_row7_col0\" class=\"data row7 col0\" >Logistic Regression</td>\n",
       "      <td id=\"T_96d5e_row7_col1\" class=\"data row7 col1\" >0.8919</td>\n",
       "      <td id=\"T_96d5e_row7_col2\" class=\"data row7 col2\" >0.8857</td>\n",
       "      <td id=\"T_96d5e_row7_col3\" class=\"data row7 col3\" >0.4876</td>\n",
       "      <td id=\"T_96d5e_row7_col4\" class=\"data row7 col4\" >0.7557</td>\n",
       "      <td id=\"T_96d5e_row7_col5\" class=\"data row7 col5\" >0.5905</td>\n",
       "      <td id=\"T_96d5e_row7_col6\" class=\"data row7 col6\" >0.5318</td>\n",
       "      <td id=\"T_96d5e_row7_col7\" class=\"data row7 col7\" >0.5499</td>\n",
       "      <td id=\"T_96d5e_row7_col8\" class=\"data row7 col8\" >0.4000</td>\n",
       "    </tr>\n",
       "    <tr>\n",
       "      <th id=\"T_96d5e_level0_row8\" class=\"row_heading level0 row8\" >ridge</th>\n",
       "      <td id=\"T_96d5e_row8_col0\" class=\"data row8 col0\" >Ridge Classifier</td>\n",
       "      <td id=\"T_96d5e_row8_col1\" class=\"data row8 col1\" >0.8786</td>\n",
       "      <td id=\"T_96d5e_row8_col2\" class=\"data row8 col2\" >0.8840</td>\n",
       "      <td id=\"T_96d5e_row8_col3\" class=\"data row8 col3\" >0.2709</td>\n",
       "      <td id=\"T_96d5e_row8_col4\" class=\"data row8 col4\" >0.9059</td>\n",
       "      <td id=\"T_96d5e_row8_col5\" class=\"data row8 col5\" >0.4161</td>\n",
       "      <td id=\"T_96d5e_row8_col6\" class=\"data row8 col6\" >0.3702</td>\n",
       "      <td id=\"T_96d5e_row8_col7\" class=\"data row8 col7\" >0.4555</td>\n",
       "      <td id=\"T_96d5e_row8_col8\" class=\"data row8 col8\" >0.0170</td>\n",
       "    </tr>\n",
       "    <tr>\n",
       "      <th id=\"T_96d5e_level0_row9\" class=\"row_heading level0 row9\" >dummy</th>\n",
       "      <td id=\"T_96d5e_row9_col0\" class=\"data row9 col0\" >Dummy Classifier</td>\n",
       "      <td id=\"T_96d5e_row9_col1\" class=\"data row9 col1\" >0.8393</td>\n",
       "      <td id=\"T_96d5e_row9_col2\" class=\"data row9 col2\" >0.5000</td>\n",
       "      <td id=\"T_96d5e_row9_col3\" class=\"data row9 col3\" >0.0000</td>\n",
       "      <td id=\"T_96d5e_row9_col4\" class=\"data row9 col4\" >0.0000</td>\n",
       "      <td id=\"T_96d5e_row9_col5\" class=\"data row9 col5\" >0.0000</td>\n",
       "      <td id=\"T_96d5e_row9_col6\" class=\"data row9 col6\" >0.0000</td>\n",
       "      <td id=\"T_96d5e_row9_col7\" class=\"data row9 col7\" >0.0000</td>\n",
       "      <td id=\"T_96d5e_row9_col8\" class=\"data row9 col8\" >0.0210</td>\n",
       "    </tr>\n",
       "    <tr>\n",
       "      <th id=\"T_96d5e_level0_row10\" class=\"row_heading level0 row10\" >qda</th>\n",
       "      <td id=\"T_96d5e_row10_col0\" class=\"data row10 col0\" >Quadratic Discriminant Analysis</td>\n",
       "      <td id=\"T_96d5e_row10_col1\" class=\"data row10 col1\" >0.8287</td>\n",
       "      <td id=\"T_96d5e_row10_col2\" class=\"data row10 col2\" >0.8363</td>\n",
       "      <td id=\"T_96d5e_row10_col3\" class=\"data row10 col3\" >0.6713</td>\n",
       "      <td id=\"T_96d5e_row10_col4\" class=\"data row10 col4\" >0.4779</td>\n",
       "      <td id=\"T_96d5e_row10_col5\" class=\"data row10 col5\" >0.5570</td>\n",
       "      <td id=\"T_96d5e_row10_col6\" class=\"data row10 col6\" >0.4548</td>\n",
       "      <td id=\"T_96d5e_row10_col7\" class=\"data row10 col7\" >0.4658</td>\n",
       "      <td id=\"T_96d5e_row10_col8\" class=\"data row10 col8\" >0.0200</td>\n",
       "    </tr>\n",
       "    <tr>\n",
       "      <th id=\"T_96d5e_level0_row11\" class=\"row_heading level0 row11\" >knn</th>\n",
       "      <td id=\"T_96d5e_row11_col0\" class=\"data row11 col0\" >K Neighbors Classifier</td>\n",
       "      <td id=\"T_96d5e_row11_col1\" class=\"data row11 col1\" >0.8223</td>\n",
       "      <td id=\"T_96d5e_row11_col2\" class=\"data row11 col2\" >0.5889</td>\n",
       "      <td id=\"T_96d5e_row11_col3\" class=\"data row11 col3\" >0.0777</td>\n",
       "      <td id=\"T_96d5e_row11_col4\" class=\"data row11 col4\" >0.2949</td>\n",
       "      <td id=\"T_96d5e_row11_col5\" class=\"data row11 col5\" >0.1226</td>\n",
       "      <td id=\"T_96d5e_row11_col6\" class=\"data row11 col6\" >0.0604</td>\n",
       "      <td id=\"T_96d5e_row11_col7\" class=\"data row11 col7\" >0.0771</td>\n",
       "      <td id=\"T_96d5e_row11_col8\" class=\"data row11 col8\" >0.0430</td>\n",
       "    </tr>\n",
       "    <tr>\n",
       "      <th id=\"T_96d5e_level0_row12\" class=\"row_heading level0 row12\" >nb</th>\n",
       "      <td id=\"T_96d5e_row12_col0\" class=\"data row12 col0\" >Naive Bayes</td>\n",
       "      <td id=\"T_96d5e_row12_col1\" class=\"data row12 col1\" >0.7708</td>\n",
       "      <td id=\"T_96d5e_row12_col2\" class=\"data row12 col2\" >0.7922</td>\n",
       "      <td id=\"T_96d5e_row12_col3\" class=\"data row12 col3\" >0.6711</td>\n",
       "      <td id=\"T_96d5e_row12_col4\" class=\"data row12 col4\" >0.3812</td>\n",
       "      <td id=\"T_96d5e_row12_col5\" class=\"data row12 col5\" >0.4851</td>\n",
       "      <td id=\"T_96d5e_row12_col6\" class=\"data row12 col6\" >0.3523</td>\n",
       "      <td id=\"T_96d5e_row12_col7\" class=\"data row12 col7\" >0.3764</td>\n",
       "      <td id=\"T_96d5e_row12_col8\" class=\"data row12 col8\" >0.0210</td>\n",
       "    </tr>\n",
       "    <tr>\n",
       "      <th id=\"T_96d5e_level0_row13\" class=\"row_heading level0 row13\" >svm</th>\n",
       "      <td id=\"T_96d5e_row13_col0\" class=\"data row13 col0\" >SVM - Linear Kernel</td>\n",
       "      <td id=\"T_96d5e_row13_col1\" class=\"data row13 col1\" >0.7261</td>\n",
       "      <td id=\"T_96d5e_row13_col2\" class=\"data row13 col2\" >0.6049</td>\n",
       "      <td id=\"T_96d5e_row13_col3\" class=\"data row13 col3\" >0.1803</td>\n",
       "      <td id=\"T_96d5e_row13_col4\" class=\"data row13 col4\" >0.0342</td>\n",
       "      <td id=\"T_96d5e_row13_col5\" class=\"data row13 col5\" >0.0573</td>\n",
       "      <td id=\"T_96d5e_row13_col6\" class=\"data row13 col6\" >0.0047</td>\n",
       "      <td id=\"T_96d5e_row13_col7\" class=\"data row13 col7\" >0.0090</td>\n",
       "      <td id=\"T_96d5e_row13_col8\" class=\"data row13 col8\" >0.0240</td>\n",
       "    </tr>\n",
       "  </tbody>\n",
       "</table>\n"
      ],
      "text/plain": [
       "<pandas.io.formats.style.Styler at 0x304360220>"
      ]
     },
     "metadata": {},
     "output_type": "display_data"
    },
    {
     "data": {
      "text/html": [],
      "text/plain": [
       "<IPython.core.display.HTML object>"
      ]
     },
     "metadata": {},
     "output_type": "display_data"
    }
   ],
   "source": [
    "# 모든 모델 비교\n",
    "best_model = compare_models()\n"
   ]
  },
  {
   "cell_type": "code",
   "execution_count": 5,
   "metadata": {},
   "outputs": [
    {
     "data": {
      "text/html": [],
      "text/plain": [
       "<IPython.core.display.HTML object>"
      ]
     },
     "metadata": {},
     "output_type": "display_data"
    },
    {
     "data": {
      "text/html": [
       "<style type=\"text/css\">\n",
       "#T_67289_row10_col0, #T_67289_row10_col1, #T_67289_row10_col2, #T_67289_row10_col3, #T_67289_row10_col4, #T_67289_row10_col5, #T_67289_row10_col6 {\n",
       "  background: yellow;\n",
       "}\n",
       "</style>\n",
       "<table id=\"T_67289\">\n",
       "  <thead>\n",
       "    <tr>\n",
       "      <th class=\"blank level0\" >&nbsp;</th>\n",
       "      <th id=\"T_67289_level0_col0\" class=\"col_heading level0 col0\" >Accuracy</th>\n",
       "      <th id=\"T_67289_level0_col1\" class=\"col_heading level0 col1\" >AUC</th>\n",
       "      <th id=\"T_67289_level0_col2\" class=\"col_heading level0 col2\" >Recall</th>\n",
       "      <th id=\"T_67289_level0_col3\" class=\"col_heading level0 col3\" >Prec.</th>\n",
       "      <th id=\"T_67289_level0_col4\" class=\"col_heading level0 col4\" >F1</th>\n",
       "      <th id=\"T_67289_level0_col5\" class=\"col_heading level0 col5\" >Kappa</th>\n",
       "      <th id=\"T_67289_level0_col6\" class=\"col_heading level0 col6\" >MCC</th>\n",
       "    </tr>\n",
       "    <tr>\n",
       "      <th class=\"index_name level0\" >Fold</th>\n",
       "      <th class=\"blank col0\" >&nbsp;</th>\n",
       "      <th class=\"blank col1\" >&nbsp;</th>\n",
       "      <th class=\"blank col2\" >&nbsp;</th>\n",
       "      <th class=\"blank col3\" >&nbsp;</th>\n",
       "      <th class=\"blank col4\" >&nbsp;</th>\n",
       "      <th class=\"blank col5\" >&nbsp;</th>\n",
       "      <th class=\"blank col6\" >&nbsp;</th>\n",
       "    </tr>\n",
       "  </thead>\n",
       "  <tbody>\n",
       "    <tr>\n",
       "      <th id=\"T_67289_level0_row0\" class=\"row_heading level0 row0\" >0</th>\n",
       "      <td id=\"T_67289_row0_col0\" class=\"data row0 col0\" >0.9337</td>\n",
       "      <td id=\"T_67289_row0_col1\" class=\"data row0 col1\" >0.9618</td>\n",
       "      <td id=\"T_67289_row0_col2\" class=\"data row0 col2\" >0.7541</td>\n",
       "      <td id=\"T_67289_row0_col3\" class=\"data row0 col3\" >0.8214</td>\n",
       "      <td id=\"T_67289_row0_col4\" class=\"data row0 col4\" >0.7863</td>\n",
       "      <td id=\"T_67289_row0_col5\" class=\"data row0 col5\" >0.7472</td>\n",
       "      <td id=\"T_67289_row0_col6\" class=\"data row0 col6\" >0.7481</td>\n",
       "    </tr>\n",
       "    <tr>\n",
       "      <th id=\"T_67289_level0_row1\" class=\"row_heading level0 row1\" >1</th>\n",
       "      <td id=\"T_67289_row1_col0\" class=\"data row1 col0\" >0.9602</td>\n",
       "      <td id=\"T_67289_row1_col1\" class=\"data row1 col1\" >0.9767</td>\n",
       "      <td id=\"T_67289_row1_col2\" class=\"data row1 col2\" >0.8197</td>\n",
       "      <td id=\"T_67289_row1_col3\" class=\"data row1 col3\" >0.9259</td>\n",
       "      <td id=\"T_67289_row1_col4\" class=\"data row1 col4\" >0.8696</td>\n",
       "      <td id=\"T_67289_row1_col5\" class=\"data row1 col5\" >0.8462</td>\n",
       "      <td id=\"T_67289_row1_col6\" class=\"data row1 col6\" >0.8484</td>\n",
       "    </tr>\n",
       "    <tr>\n",
       "      <th id=\"T_67289_level0_row2\" class=\"row_heading level0 row2\" >2</th>\n",
       "      <td id=\"T_67289_row2_col0\" class=\"data row2 col0\" >0.9072</td>\n",
       "      <td id=\"T_67289_row2_col1\" class=\"data row2 col1\" >0.9368</td>\n",
       "      <td id=\"T_67289_row2_col2\" class=\"data row2 col2\" >0.6557</td>\n",
       "      <td id=\"T_67289_row2_col3\" class=\"data row2 col3\" >0.7407</td>\n",
       "      <td id=\"T_67289_row2_col4\" class=\"data row2 col4\" >0.6957</td>\n",
       "      <td id=\"T_67289_row2_col5\" class=\"data row2 col5\" >0.6411</td>\n",
       "      <td id=\"T_67289_row2_col6\" class=\"data row2 col6\" >0.6428</td>\n",
       "    </tr>\n",
       "    <tr>\n",
       "      <th id=\"T_67289_level0_row3\" class=\"row_heading level0 row3\" >3</th>\n",
       "      <td id=\"T_67289_row3_col0\" class=\"data row3 col0\" >0.9337</td>\n",
       "      <td id=\"T_67289_row3_col1\" class=\"data row3 col1\" >0.9631</td>\n",
       "      <td id=\"T_67289_row3_col2\" class=\"data row3 col2\" >0.7541</td>\n",
       "      <td id=\"T_67289_row3_col3\" class=\"data row3 col3\" >0.8214</td>\n",
       "      <td id=\"T_67289_row3_col4\" class=\"data row3 col4\" >0.7863</td>\n",
       "      <td id=\"T_67289_row3_col5\" class=\"data row3 col5\" >0.7472</td>\n",
       "      <td id=\"T_67289_row3_col6\" class=\"data row3 col6\" >0.7481</td>\n",
       "    </tr>\n",
       "    <tr>\n",
       "      <th id=\"T_67289_level0_row4\" class=\"row_heading level0 row4\" >4</th>\n",
       "      <td id=\"T_67289_row4_col0\" class=\"data row4 col0\" >0.9231</td>\n",
       "      <td id=\"T_67289_row4_col1\" class=\"data row4 col1\" >0.9525</td>\n",
       "      <td id=\"T_67289_row4_col2\" class=\"data row4 col2\" >0.7049</td>\n",
       "      <td id=\"T_67289_row4_col3\" class=\"data row4 col3\" >0.7963</td>\n",
       "      <td id=\"T_67289_row4_col4\" class=\"data row4 col4\" >0.7478</td>\n",
       "      <td id=\"T_67289_row4_col5\" class=\"data row4 col5\" >0.7026</td>\n",
       "      <td id=\"T_67289_row4_col6\" class=\"data row4 col6\" >0.7045</td>\n",
       "    </tr>\n",
       "    <tr>\n",
       "      <th id=\"T_67289_level0_row5\" class=\"row_heading level0 row5\" >5</th>\n",
       "      <td id=\"T_67289_row5_col0\" class=\"data row5 col0\" >0.9415</td>\n",
       "      <td id=\"T_67289_row5_col1\" class=\"data row5 col1\" >0.9787</td>\n",
       "      <td id=\"T_67289_row5_col2\" class=\"data row5 col2\" >0.7667</td>\n",
       "      <td id=\"T_67289_row5_col3\" class=\"data row5 col3\" >0.8519</td>\n",
       "      <td id=\"T_67289_row5_col4\" class=\"data row5 col4\" >0.8070</td>\n",
       "      <td id=\"T_67289_row5_col5\" class=\"data row5 col5\" >0.7726</td>\n",
       "      <td id=\"T_67289_row5_col6\" class=\"data row5 col6\" >0.7741</td>\n",
       "    </tr>\n",
       "    <tr>\n",
       "      <th id=\"T_67289_level0_row6\" class=\"row_heading level0 row6\" >6</th>\n",
       "      <td id=\"T_67289_row6_col0\" class=\"data row6 col0\" >0.9362</td>\n",
       "      <td id=\"T_67289_row6_col1\" class=\"data row6 col1\" >0.9704</td>\n",
       "      <td id=\"T_67289_row6_col2\" class=\"data row6 col2\" >0.7000</td>\n",
       "      <td id=\"T_67289_row6_col3\" class=\"data row6 col3\" >0.8750</td>\n",
       "      <td id=\"T_67289_row6_col4\" class=\"data row6 col4\" >0.7778</td>\n",
       "      <td id=\"T_67289_row6_col5\" class=\"data row6 col5\" >0.7410</td>\n",
       "      <td id=\"T_67289_row6_col6\" class=\"data row6 col6\" >0.7473</td>\n",
       "    </tr>\n",
       "    <tr>\n",
       "      <th id=\"T_67289_level0_row7\" class=\"row_heading level0 row7\" >7</th>\n",
       "      <td id=\"T_67289_row7_col0\" class=\"data row7 col0\" >0.9176</td>\n",
       "      <td id=\"T_67289_row7_col1\" class=\"data row7 col1\" >0.9524</td>\n",
       "      <td id=\"T_67289_row7_col2\" class=\"data row7 col2\" >0.6833</td>\n",
       "      <td id=\"T_67289_row7_col3\" class=\"data row7 col3\" >0.7736</td>\n",
       "      <td id=\"T_67289_row7_col4\" class=\"data row7 col4\" >0.7257</td>\n",
       "      <td id=\"T_67289_row7_col5\" class=\"data row7 col5\" >0.6774</td>\n",
       "      <td id=\"T_67289_row7_col6\" class=\"data row7 col6\" >0.6792</td>\n",
       "    </tr>\n",
       "    <tr>\n",
       "      <th id=\"T_67289_level0_row8\" class=\"row_heading level0 row8\" >8</th>\n",
       "      <td id=\"T_67289_row8_col0\" class=\"data row8 col0\" >0.9521</td>\n",
       "      <td id=\"T_67289_row8_col1\" class=\"data row8 col1\" >0.9416</td>\n",
       "      <td id=\"T_67289_row8_col2\" class=\"data row8 col2\" >0.7667</td>\n",
       "      <td id=\"T_67289_row8_col3\" class=\"data row8 col3\" >0.9200</td>\n",
       "      <td id=\"T_67289_row8_col4\" class=\"data row8 col4\" >0.8364</td>\n",
       "      <td id=\"T_67289_row8_col5\" class=\"data row8 col5\" >0.8086</td>\n",
       "      <td id=\"T_67289_row8_col6\" class=\"data row8 col6\" >0.8132</td>\n",
       "    </tr>\n",
       "    <tr>\n",
       "      <th id=\"T_67289_level0_row9\" class=\"row_heading level0 row9\" >9</th>\n",
       "      <td id=\"T_67289_row9_col0\" class=\"data row9 col0\" >0.9202</td>\n",
       "      <td id=\"T_67289_row9_col1\" class=\"data row9 col1\" >0.9485</td>\n",
       "      <td id=\"T_67289_row9_col2\" class=\"data row9 col2\" >0.7167</td>\n",
       "      <td id=\"T_67289_row9_col3\" class=\"data row9 col3\" >0.7679</td>\n",
       "      <td id=\"T_67289_row9_col4\" class=\"data row9 col4\" >0.7414</td>\n",
       "      <td id=\"T_67289_row9_col5\" class=\"data row9 col5\" >0.6943</td>\n",
       "      <td id=\"T_67289_row9_col6\" class=\"data row9 col6\" >0.6949</td>\n",
       "    </tr>\n",
       "    <tr>\n",
       "      <th id=\"T_67289_level0_row10\" class=\"row_heading level0 row10\" >Mean</th>\n",
       "      <td id=\"T_67289_row10_col0\" class=\"data row10 col0\" >0.9325</td>\n",
       "      <td id=\"T_67289_row10_col1\" class=\"data row10 col1\" >0.9582</td>\n",
       "      <td id=\"T_67289_row10_col2\" class=\"data row10 col2\" >0.7322</td>\n",
       "      <td id=\"T_67289_row10_col3\" class=\"data row10 col3\" >0.8294</td>\n",
       "      <td id=\"T_67289_row10_col4\" class=\"data row10 col4\" >0.7774</td>\n",
       "      <td id=\"T_67289_row10_col5\" class=\"data row10 col5\" >0.7378</td>\n",
       "      <td id=\"T_67289_row10_col6\" class=\"data row10 col6\" >0.7401</td>\n",
       "    </tr>\n",
       "    <tr>\n",
       "      <th id=\"T_67289_level0_row11\" class=\"row_heading level0 row11\" >Std</th>\n",
       "      <td id=\"T_67289_row11_col0\" class=\"data row11 col0\" >0.0153</td>\n",
       "      <td id=\"T_67289_row11_col1\" class=\"data row11 col1\" >0.0136</td>\n",
       "      <td id=\"T_67289_row11_col2\" class=\"data row11 col2\" >0.0461</td>\n",
       "      <td id=\"T_67289_row11_col3\" class=\"data row11 col3\" >0.0601</td>\n",
       "      <td id=\"T_67289_row11_col4\" class=\"data row11 col4\" >0.0495</td>\n",
       "      <td id=\"T_67289_row11_col5\" class=\"data row11 col5\" >0.0586</td>\n",
       "      <td id=\"T_67289_row11_col6\" class=\"data row11 col6\" >0.0591</td>\n",
       "    </tr>\n",
       "  </tbody>\n",
       "</table>\n"
      ],
      "text/plain": [
       "<pandas.io.formats.style.Styler at 0x304547580>"
      ]
     },
     "metadata": {},
     "output_type": "display_data"
    },
    {
     "data": {
      "text/html": [],
      "text/plain": [
       "<IPython.core.display.HTML object>"
      ]
     },
     "metadata": {},
     "output_type": "display_data"
    },
    {
     "name": "stdout",
     "output_type": "stream",
     "text": [
      "Fitting 10 folds for each of 10 candidates, totalling 100 fits\n",
      "Original model was better than the tuned model, hence it will be returned. NOTE: The display metrics are for the tuned model (not the original one).\n"
     ]
    }
   ],
   "source": [
    "from pycaret.classification import tune_model\n",
    "\n",
    "# LightGBM 모델 튜닝\n",
    "tuned_model = tune_model(best_model)\n"
   ]
  },
  {
   "cell_type": "code",
   "execution_count": 6,
   "metadata": {},
   "outputs": [
    {
     "name": "stdout",
     "output_type": "stream",
     "text": [
      "LGBMClassifier(boosting_type='gbdt', class_weight=None, colsample_bytree=1.0,\n",
      "               importance_type='split', learning_rate=0.1, max_depth=-1,\n",
      "               min_child_samples=20, min_child_weight=0.001, min_split_gain=0.0,\n",
      "               n_estimators=100, n_jobs=-1, num_leaves=31, objective=None,\n",
      "               random_state=42, reg_alpha=0.0, reg_lambda=0.0, subsample=1.0,\n",
      "               subsample_for_bin=200000, subsample_freq=0)\n"
     ]
    }
   ],
   "source": [
    "print(best_model)\n"
   ]
  },
  {
   "cell_type": "code",
   "execution_count": 7,
   "metadata": {},
   "outputs": [
    {
     "name": "stdout",
     "output_type": "stream",
     "text": [
      "Transformation Pipeline and Model Successfully Saved\n"
     ]
    },
    {
     "data": {
      "text/plain": [
       "(Pipeline(memory=Memory(location=None),\n",
       "          steps=[('numerical_imputer',\n",
       "                  TransformerWrapper(exclude=None,\n",
       "                                     include=['고객 ID', '가입 기간', '도시 등급', '배송거리',\n",
       "                                              '앱 사용 시간', '기기 수', '만족도', '주소 수',\n",
       "                                              '불만족 여부', '주문 증가율', '쿠폰 수',\n",
       "                                              '주문 횟수', '경과일', '캐시백 금액'],\n",
       "                                     transformer=SimpleImputer(add_indicator=False,\n",
       "                                                               copy=True,\n",
       "                                                               fill_value=None,\n",
       "                                                               keep_empty_features=False,\n",
       "                                                               missing_values=nan,\n",
       "                                                               strategy='mean'))),\n",
       "                 ('categor...\n",
       "                  LGBMClassifier(boosting_type='gbdt', class_weight=None,\n",
       "                                 colsample_bytree=1.0, importance_type='split',\n",
       "                                 learning_rate=0.1, max_depth=-1,\n",
       "                                 min_child_samples=20, min_child_weight=0.001,\n",
       "                                 min_split_gain=0.0, n_estimators=100, n_jobs=-1,\n",
       "                                 num_leaves=31, objective=None, random_state=42,\n",
       "                                 reg_alpha=0.0, reg_lambda=0.0, subsample=1.0,\n",
       "                                 subsample_for_bin=200000, subsample_freq=0))],\n",
       "          verbose=False),\n",
       " 'lightgbm_original_model.pkl')"
      ]
     },
     "execution_count": 7,
     "metadata": {},
     "output_type": "execute_result"
    }
   ],
   "source": [
    "from pycaret.classification import save_model\n",
    "\n",
    "save_model(best_model, 'lightgbm_original_model')\n"
   ]
  },
  {
   "cell_type": "code",
   "execution_count": 9,
   "metadata": {},
   "outputs": [
    {
     "name": "stdout",
     "output_type": "stream",
     "text": [
      "Transformation Pipeline and Model Successfully Loaded\n"
     ]
    },
    {
     "data": {
      "text/html": [],
      "text/plain": [
       "<IPython.core.display.HTML object>"
      ]
     },
     "metadata": {},
     "output_type": "display_data"
    },
    {
     "ename": "KeyError",
     "evalue": "\"None of [Index(['고객 ID', '가입 기간', '접속 기기', '도시 등급', '배송거리', '결제 방식', '성별', '앱 사용 시간',\\n       '기기 수', '주문 카테고리', '만족도', '결혼 여부', '주소 수', '불만족 여부', '주문 증가율', '쿠폰 수',\\n       '주문 횟수', '경과일', '캐시백 금액'],\\n      dtype='object')] are in the [columns]\"",
     "output_type": "error",
     "traceback": [
      "\u001b[0;31m---------------------------------------------------------------------------\u001b[0m",
      "\u001b[0;31mKeyError\u001b[0m                                  Traceback (most recent call last)",
      "Cell \u001b[0;32mIn[9], line 5\u001b[0m\n\u001b[1;32m      3\u001b[0m model \u001b[38;5;241m=\u001b[39m load_model(\u001b[38;5;124m'\u001b[39m\u001b[38;5;124mlightgbm_original_model\u001b[39m\u001b[38;5;124m'\u001b[39m)\n\u001b[1;32m      4\u001b[0m new_data \u001b[38;5;241m=\u001b[39m pd\u001b[38;5;241m.\u001b[39mDataFrame({\u001b[38;5;241m.\u001b[39m\u001b[38;5;241m.\u001b[39m\u001b[38;5;241m.\u001b[39m})  \u001b[38;5;66;03m# 실제 데이터를 입력\u001b[39;00m\n\u001b[0;32m----> 5\u001b[0m predictions \u001b[38;5;241m=\u001b[39m \u001b[43mpredict_model\u001b[49m\u001b[43m(\u001b[49m\u001b[43mmodel\u001b[49m\u001b[43m,\u001b[49m\u001b[43m \u001b[49m\u001b[43mdata\u001b[49m\u001b[38;5;241;43m=\u001b[39;49m\u001b[43mnew_data\u001b[49m\u001b[43m)\u001b[49m\n\u001b[1;32m      7\u001b[0m \u001b[38;5;28mprint\u001b[39m(predictions)\n",
      "File \u001b[0;32m~/miniconda3/envs/automl/lib/python3.9/site-packages/pycaret/classification/functional.py:2172\u001b[0m, in \u001b[0;36mpredict_model\u001b[0;34m(estimator, data, probability_threshold, encoded_labels, raw_score, round, verbose)\u001b[0m\n\u001b[1;32m   2169\u001b[0m \u001b[38;5;28;01mif\u001b[39;00m experiment \u001b[38;5;129;01mis\u001b[39;00m \u001b[38;5;28;01mNone\u001b[39;00m:\n\u001b[1;32m   2170\u001b[0m     experiment \u001b[38;5;241m=\u001b[39m _EXPERIMENT_CLASS()\n\u001b[0;32m-> 2172\u001b[0m \u001b[38;5;28;01mreturn\u001b[39;00m \u001b[43mexperiment\u001b[49m\u001b[38;5;241;43m.\u001b[39;49m\u001b[43mpredict_model\u001b[49m\u001b[43m(\u001b[49m\n\u001b[1;32m   2173\u001b[0m \u001b[43m    \u001b[49m\u001b[43mestimator\u001b[49m\u001b[38;5;241;43m=\u001b[39;49m\u001b[43mestimator\u001b[49m\u001b[43m,\u001b[49m\n\u001b[1;32m   2174\u001b[0m \u001b[43m    \u001b[49m\u001b[43mdata\u001b[49m\u001b[38;5;241;43m=\u001b[39;49m\u001b[43mdata\u001b[49m\u001b[43m,\u001b[49m\n\u001b[1;32m   2175\u001b[0m \u001b[43m    \u001b[49m\u001b[43mprobability_threshold\u001b[49m\u001b[38;5;241;43m=\u001b[39;49m\u001b[43mprobability_threshold\u001b[49m\u001b[43m,\u001b[49m\n\u001b[1;32m   2176\u001b[0m \u001b[43m    \u001b[49m\u001b[43mencoded_labels\u001b[49m\u001b[38;5;241;43m=\u001b[39;49m\u001b[43mencoded_labels\u001b[49m\u001b[43m,\u001b[49m\n\u001b[1;32m   2177\u001b[0m \u001b[43m    \u001b[49m\u001b[43mraw_score\u001b[49m\u001b[38;5;241;43m=\u001b[39;49m\u001b[43mraw_score\u001b[49m\u001b[43m,\u001b[49m\n\u001b[1;32m   2178\u001b[0m \u001b[43m    \u001b[49m\u001b[38;5;28;43mround\u001b[39;49m\u001b[38;5;241;43m=\u001b[39;49m\u001b[38;5;28;43mround\u001b[39;49m\u001b[43m,\u001b[49m\n\u001b[1;32m   2179\u001b[0m \u001b[43m    \u001b[49m\u001b[43mverbose\u001b[49m\u001b[38;5;241;43m=\u001b[39;49m\u001b[43mverbose\u001b[49m\u001b[43m,\u001b[49m\n\u001b[1;32m   2180\u001b[0m \u001b[43m\u001b[49m\u001b[43m)\u001b[49m\n",
      "File \u001b[0;32m~/miniconda3/envs/automl/lib/python3.9/site-packages/pycaret/classification/oop.py:2824\u001b[0m, in \u001b[0;36mClassificationExperiment.predict_model\u001b[0;34m(self, estimator, data, probability_threshold, encoded_labels, raw_score, round, verbose)\u001b[0m\n\u001b[1;32m   2752\u001b[0m \u001b[38;5;28;01mdef\u001b[39;00m\u001b[38;5;250m \u001b[39m\u001b[38;5;21mpredict_model\u001b[39m(\n\u001b[1;32m   2753\u001b[0m     \u001b[38;5;28mself\u001b[39m,\n\u001b[1;32m   2754\u001b[0m     estimator,\n\u001b[0;32m   (...)\u001b[0m\n\u001b[1;32m   2760\u001b[0m     verbose: \u001b[38;5;28mbool\u001b[39m \u001b[38;5;241m=\u001b[39m \u001b[38;5;28;01mTrue\u001b[39;00m,\n\u001b[1;32m   2761\u001b[0m ) \u001b[38;5;241m-\u001b[39m\u001b[38;5;241m>\u001b[39m pd\u001b[38;5;241m.\u001b[39mDataFrame:\n\u001b[1;32m   2762\u001b[0m \u001b[38;5;250m    \u001b[39m\u001b[38;5;124;03m\"\"\"\u001b[39;00m\n\u001b[1;32m   2763\u001b[0m \u001b[38;5;124;03m    This function predicts ``Label`` and ``Score`` (probability of predicted\u001b[39;00m\n\u001b[1;32m   2764\u001b[0m \u001b[38;5;124;03m    class) using a trained model. When ``data`` is None, it predicts label and\u001b[39;00m\n\u001b[0;32m   (...)\u001b[0m\n\u001b[1;32m   2821\u001b[0m \n\u001b[1;32m   2822\u001b[0m \u001b[38;5;124;03m    \"\"\"\u001b[39;00m\n\u001b[0;32m-> 2824\u001b[0m     \u001b[38;5;28;01mreturn\u001b[39;00m \u001b[38;5;28;43msuper\u001b[39;49m\u001b[43m(\u001b[49m\u001b[43m)\u001b[49m\u001b[38;5;241;43m.\u001b[39;49m\u001b[43mpredict_model\u001b[49m\u001b[43m(\u001b[49m\n\u001b[1;32m   2825\u001b[0m \u001b[43m        \u001b[49m\u001b[43mestimator\u001b[49m\u001b[38;5;241;43m=\u001b[39;49m\u001b[43mestimator\u001b[49m\u001b[43m,\u001b[49m\n\u001b[1;32m   2826\u001b[0m \u001b[43m        \u001b[49m\u001b[43mdata\u001b[49m\u001b[38;5;241;43m=\u001b[39;49m\u001b[43mdata\u001b[49m\u001b[43m,\u001b[49m\n\u001b[1;32m   2827\u001b[0m \u001b[43m        \u001b[49m\u001b[43mprobability_threshold\u001b[49m\u001b[38;5;241;43m=\u001b[39;49m\u001b[43mprobability_threshold\u001b[49m\u001b[43m,\u001b[49m\n\u001b[1;32m   2828\u001b[0m \u001b[43m        \u001b[49m\u001b[43mencoded_labels\u001b[49m\u001b[38;5;241;43m=\u001b[39;49m\u001b[43mencoded_labels\u001b[49m\u001b[43m,\u001b[49m\n\u001b[1;32m   2829\u001b[0m \u001b[43m        \u001b[49m\u001b[43mraw_score\u001b[49m\u001b[38;5;241;43m=\u001b[39;49m\u001b[43mraw_score\u001b[49m\u001b[43m,\u001b[49m\n\u001b[1;32m   2830\u001b[0m \u001b[43m        \u001b[49m\u001b[38;5;28;43mround\u001b[39;49m\u001b[38;5;241;43m=\u001b[39;49m\u001b[38;5;28;43mround\u001b[39;49m\u001b[43m,\u001b[49m\n\u001b[1;32m   2831\u001b[0m \u001b[43m        \u001b[49m\u001b[43mverbose\u001b[49m\u001b[38;5;241;43m=\u001b[39;49m\u001b[43mverbose\u001b[49m\u001b[43m,\u001b[49m\n\u001b[1;32m   2832\u001b[0m \u001b[43m    \u001b[49m\u001b[43m)\u001b[49m\n",
      "File \u001b[0;32m~/miniconda3/envs/automl/lib/python3.9/site-packages/pycaret/internal/pycaret_experiment/supervised_experiment.py:4960\u001b[0m, in \u001b[0;36m_SupervisedExperiment.predict_model\u001b[0;34m(self, estimator, data, probability_threshold, encoded_labels, raw_score, round, verbose, ml_usecase, preprocess)\u001b[0m\n\u001b[1;32m   4958\u001b[0m X_test_untransformed \u001b[38;5;241m=\u001b[39m data\n\u001b[1;32m   4959\u001b[0m y_test_untransformed \u001b[38;5;241m=\u001b[39m target\n\u001b[0;32m-> 4960\u001b[0m data \u001b[38;5;241m=\u001b[39m \u001b[43mdata\u001b[49m\u001b[43m[\u001b[49m\u001b[43mX_columns\u001b[49m\u001b[43m]\u001b[49m  \u001b[38;5;66;03m# Ignore all columns but the originals\u001b[39;00m\n\u001b[1;32m   4961\u001b[0m \u001b[38;5;28;01mif\u001b[39;00m preprocess:\n\u001b[1;32m   4962\u001b[0m     X_test_ \u001b[38;5;241m=\u001b[39m pipeline\u001b[38;5;241m.\u001b[39mtransform(\n\u001b[1;32m   4963\u001b[0m         X\u001b[38;5;241m=\u001b[39mdata,\n\u001b[1;32m   4964\u001b[0m         y\u001b[38;5;241m=\u001b[39m(target \u001b[38;5;28;01mif\u001b[39;00m preprocess \u001b[38;5;241m!=\u001b[39m \u001b[38;5;124m\"\u001b[39m\u001b[38;5;124mfeatures\u001b[39m\u001b[38;5;124m\"\u001b[39m \u001b[38;5;28;01melse\u001b[39;00m \u001b[38;5;28;01mNone\u001b[39;00m),\n\u001b[1;32m   4965\u001b[0m     )\n",
      "File \u001b[0;32m~/miniconda3/envs/automl/lib/python3.9/site-packages/pandas/core/frame.py:3899\u001b[0m, in \u001b[0;36mDataFrame.__getitem__\u001b[0;34m(self, key)\u001b[0m\n\u001b[1;32m   3897\u001b[0m     \u001b[38;5;28;01mif\u001b[39;00m is_iterator(key):\n\u001b[1;32m   3898\u001b[0m         key \u001b[38;5;241m=\u001b[39m \u001b[38;5;28mlist\u001b[39m(key)\n\u001b[0;32m-> 3899\u001b[0m     indexer \u001b[38;5;241m=\u001b[39m \u001b[38;5;28;43mself\u001b[39;49m\u001b[38;5;241;43m.\u001b[39;49m\u001b[43mcolumns\u001b[49m\u001b[38;5;241;43m.\u001b[39;49m\u001b[43m_get_indexer_strict\u001b[49m\u001b[43m(\u001b[49m\u001b[43mkey\u001b[49m\u001b[43m,\u001b[49m\u001b[43m \u001b[49m\u001b[38;5;124;43m\"\u001b[39;49m\u001b[38;5;124;43mcolumns\u001b[39;49m\u001b[38;5;124;43m\"\u001b[39;49m\u001b[43m)\u001b[49m[\u001b[38;5;241m1\u001b[39m]\n\u001b[1;32m   3901\u001b[0m \u001b[38;5;66;03m# take() does not accept boolean indexers\u001b[39;00m\n\u001b[1;32m   3902\u001b[0m \u001b[38;5;28;01mif\u001b[39;00m \u001b[38;5;28mgetattr\u001b[39m(indexer, \u001b[38;5;124m\"\u001b[39m\u001b[38;5;124mdtype\u001b[39m\u001b[38;5;124m\"\u001b[39m, \u001b[38;5;28;01mNone\u001b[39;00m) \u001b[38;5;241m==\u001b[39m \u001b[38;5;28mbool\u001b[39m:\n",
      "File \u001b[0;32m~/miniconda3/envs/automl/lib/python3.9/site-packages/pandas/core/indexes/base.py:6115\u001b[0m, in \u001b[0;36mIndex._get_indexer_strict\u001b[0;34m(self, key, axis_name)\u001b[0m\n\u001b[1;32m   6112\u001b[0m \u001b[38;5;28;01melse\u001b[39;00m:\n\u001b[1;32m   6113\u001b[0m     keyarr, indexer, new_indexer \u001b[38;5;241m=\u001b[39m \u001b[38;5;28mself\u001b[39m\u001b[38;5;241m.\u001b[39m_reindex_non_unique(keyarr)\n\u001b[0;32m-> 6115\u001b[0m \u001b[38;5;28;43mself\u001b[39;49m\u001b[38;5;241;43m.\u001b[39;49m\u001b[43m_raise_if_missing\u001b[49m\u001b[43m(\u001b[49m\u001b[43mkeyarr\u001b[49m\u001b[43m,\u001b[49m\u001b[43m \u001b[49m\u001b[43mindexer\u001b[49m\u001b[43m,\u001b[49m\u001b[43m \u001b[49m\u001b[43maxis_name\u001b[49m\u001b[43m)\u001b[49m\n\u001b[1;32m   6117\u001b[0m keyarr \u001b[38;5;241m=\u001b[39m \u001b[38;5;28mself\u001b[39m\u001b[38;5;241m.\u001b[39mtake(indexer)\n\u001b[1;32m   6118\u001b[0m \u001b[38;5;28;01mif\u001b[39;00m \u001b[38;5;28misinstance\u001b[39m(key, Index):\n\u001b[1;32m   6119\u001b[0m     \u001b[38;5;66;03m# GH 42790 - Preserve name from an Index\u001b[39;00m\n",
      "File \u001b[0;32m~/miniconda3/envs/automl/lib/python3.9/site-packages/pandas/core/indexes/base.py:6176\u001b[0m, in \u001b[0;36mIndex._raise_if_missing\u001b[0;34m(self, key, indexer, axis_name)\u001b[0m\n\u001b[1;32m   6174\u001b[0m     \u001b[38;5;28;01mif\u001b[39;00m use_interval_msg:\n\u001b[1;32m   6175\u001b[0m         key \u001b[38;5;241m=\u001b[39m \u001b[38;5;28mlist\u001b[39m(key)\n\u001b[0;32m-> 6176\u001b[0m     \u001b[38;5;28;01mraise\u001b[39;00m \u001b[38;5;167;01mKeyError\u001b[39;00m(\u001b[38;5;124mf\u001b[39m\u001b[38;5;124m\"\u001b[39m\u001b[38;5;124mNone of [\u001b[39m\u001b[38;5;132;01m{\u001b[39;00mkey\u001b[38;5;132;01m}\u001b[39;00m\u001b[38;5;124m] are in the [\u001b[39m\u001b[38;5;132;01m{\u001b[39;00maxis_name\u001b[38;5;132;01m}\u001b[39;00m\u001b[38;5;124m]\u001b[39m\u001b[38;5;124m\"\u001b[39m)\n\u001b[1;32m   6178\u001b[0m not_found \u001b[38;5;241m=\u001b[39m \u001b[38;5;28mlist\u001b[39m(ensure_index(key)[missing_mask\u001b[38;5;241m.\u001b[39mnonzero()[\u001b[38;5;241m0\u001b[39m]]\u001b[38;5;241m.\u001b[39munique())\n\u001b[1;32m   6179\u001b[0m \u001b[38;5;28;01mraise\u001b[39;00m \u001b[38;5;167;01mKeyError\u001b[39;00m(\u001b[38;5;124mf\u001b[39m\u001b[38;5;124m\"\u001b[39m\u001b[38;5;132;01m{\u001b[39;00mnot_found\u001b[38;5;132;01m}\u001b[39;00m\u001b[38;5;124m not in index\u001b[39m\u001b[38;5;124m\"\u001b[39m)\n",
      "\u001b[0;31mKeyError\u001b[0m: \"None of [Index(['고객 ID', '가입 기간', '접속 기기', '도시 등급', '배송거리', '결제 방식', '성별', '앱 사용 시간',\\n       '기기 수', '주문 카테고리', '만족도', '결혼 여부', '주소 수', '불만족 여부', '주문 증가율', '쿠폰 수',\\n       '주문 횟수', '경과일', '캐시백 금액'],\\n      dtype='object')] are in the [columns]\""
     ]
    }
   ],
   "source": [
    "from pycaret.classification import load_model, predict_model\n",
    "\n",
    "model = load_model('lightgbm_original_model')\n",
    "new_data = pd.DataFrame({...})  # 실제 데이터를 입력\n",
    "predictions = predict_model(model, data=new_data)\n",
    "\n",
    "print(predictions)\n"
   ]
  },
  {
   "cell_type": "code",
   "execution_count": 10,
   "metadata": {},
   "outputs": [
    {
     "name": "stdout",
     "output_type": "stream",
     "text": [
      "Index(['고객 ID', '이탈 여부', '가입 기간', '접속 기기', '도시 등급', '배송거리', '결제 방식', '성별',\n",
      "       '앱 사용 시간', '기기 수', '주문 카테고리', '만족도', '결혼 여부', '주소 수', '불만족 여부',\n",
      "       '주문 증가율', '쿠폰 수', '주문 횟수', '경과일', '캐시백 금액'],\n",
      "      dtype='object')\n"
     ]
    }
   ],
   "source": [
    "# setup 단계에서 사용한 데이터 로드 후 열 이름 확인\n",
    "print(data.columns)\n"
   ]
  },
  {
   "cell_type": "code",
   "execution_count": 11,
   "metadata": {},
   "outputs": [],
   "source": [
    "import pandas as pd\n",
    "\n",
    "# 새로운 데이터 샘플 생성 (이탈 여부 열 제외)\n",
    "new_data = pd.DataFrame([{\n",
    "    '고객 ID': 'C12345',\n",
    "    '가입 기간': 12,\n",
    "    '접속 기기': '모바일',\n",
    "    '도시 등급': 'A',\n",
    "    '배송거리': 15.5,\n",
    "    '결제 방식': '신용카드',\n",
    "    '성별': '남성',\n",
    "    '앱 사용 시간': 10.5,\n",
    "    '기기 수': 2,\n",
    "    '주문 카테고리': '식품',\n",
    "    '만족도': 4,\n",
    "    '결혼 여부': '기혼',\n",
    "    '주소 수': 1,\n",
    "    '불만족 여부': '아니오',\n",
    "    '주문 증가율': 0.15,\n",
    "    '쿠폰 수': 3,\n",
    "    '주문 횟수': 25,\n",
    "    '경과일': 30,\n",
    "    '캐시백 금액': 1000\n",
    "}])\n"
   ]
  },
  {
   "cell_type": "code",
   "execution_count": 14,
   "metadata": {},
   "outputs": [
    {
     "name": "stdout",
     "output_type": "stream",
     "text": [
      "가입 기간        int64\n",
      "접속 기기       object\n",
      "도시 등급       object\n",
      "배송거리       float64\n",
      "결제 방식       object\n",
      "성별          object\n",
      "앱 사용 시간    float64\n",
      "기기 수         int64\n",
      "주문 카테고리     object\n",
      "만족도          int64\n",
      "결혼 여부       object\n",
      "주소 수         int64\n",
      "불만족 여부      object\n",
      "주문 증가율     float64\n",
      "쿠폰 수         int64\n",
      "주문 횟수        int64\n",
      "경과일          int64\n",
      "캐시백 금액       int64\n",
      "dtype: object\n"
     ]
    }
   ],
   "source": [
    "# 데이터 형식 확인\n",
    "print(new_data.dtypes)\n"
   ]
  },
  {
   "cell_type": "code",
   "execution_count": 15,
   "metadata": {},
   "outputs": [],
   "source": [
    "# 숫자형으로 변환\n",
    "new_data['가입 기간'] = new_data['가입 기간'].astype(float)\n",
    "# 기타 열도 필요에 따라 변환\n"
   ]
  },
  {
   "cell_type": "code",
   "execution_count": 18,
   "metadata": {},
   "outputs": [
    {
     "name": "stdout",
     "output_type": "stream",
     "text": [
      "Transformation Pipeline and Model Successfully Loaded\n"
     ]
    },
    {
     "data": {
      "text/html": [],
      "text/plain": [
       "<IPython.core.display.HTML object>"
      ]
     },
     "metadata": {},
     "output_type": "display_data"
    },
    {
     "ename": "KeyError",
     "evalue": "\"['고객 ID'] not in index\"",
     "output_type": "error",
     "traceback": [
      "\u001b[0;31m---------------------------------------------------------------------------\u001b[0m",
      "\u001b[0;31mKeyError\u001b[0m                                  Traceback (most recent call last)",
      "Cell \u001b[0;32mIn[18], line 34\u001b[0m\n\u001b[1;32m     31\u001b[0m     new_data \u001b[38;5;241m=\u001b[39m new_data\u001b[38;5;241m.\u001b[39mdrop(columns\u001b[38;5;241m=\u001b[39m[\u001b[38;5;124m'\u001b[39m\u001b[38;5;124m고객 ID\u001b[39m\u001b[38;5;124m'\u001b[39m])\n\u001b[1;32m     33\u001b[0m \u001b[38;5;66;03m# 예측 실행\u001b[39;00m\n\u001b[0;32m---> 34\u001b[0m predictions \u001b[38;5;241m=\u001b[39m \u001b[43mpredict_model\u001b[49m\u001b[43m(\u001b[49m\u001b[43mmodel\u001b[49m\u001b[43m,\u001b[49m\u001b[43m \u001b[49m\u001b[43mdata\u001b[49m\u001b[38;5;241;43m=\u001b[39;49m\u001b[43mnew_data\u001b[49m\u001b[43m)\u001b[49m\n\u001b[1;32m     36\u001b[0m \u001b[38;5;66;03m# 결과 출력\u001b[39;00m\n\u001b[1;32m     37\u001b[0m \u001b[38;5;28mprint\u001b[39m(predictions)\n",
      "File \u001b[0;32m~/miniconda3/envs/automl/lib/python3.9/site-packages/pycaret/classification/functional.py:2172\u001b[0m, in \u001b[0;36mpredict_model\u001b[0;34m(estimator, data, probability_threshold, encoded_labels, raw_score, round, verbose)\u001b[0m\n\u001b[1;32m   2169\u001b[0m \u001b[38;5;28;01mif\u001b[39;00m experiment \u001b[38;5;129;01mis\u001b[39;00m \u001b[38;5;28;01mNone\u001b[39;00m:\n\u001b[1;32m   2170\u001b[0m     experiment \u001b[38;5;241m=\u001b[39m _EXPERIMENT_CLASS()\n\u001b[0;32m-> 2172\u001b[0m \u001b[38;5;28;01mreturn\u001b[39;00m \u001b[43mexperiment\u001b[49m\u001b[38;5;241;43m.\u001b[39;49m\u001b[43mpredict_model\u001b[49m\u001b[43m(\u001b[49m\n\u001b[1;32m   2173\u001b[0m \u001b[43m    \u001b[49m\u001b[43mestimator\u001b[49m\u001b[38;5;241;43m=\u001b[39;49m\u001b[43mestimator\u001b[49m\u001b[43m,\u001b[49m\n\u001b[1;32m   2174\u001b[0m \u001b[43m    \u001b[49m\u001b[43mdata\u001b[49m\u001b[38;5;241;43m=\u001b[39;49m\u001b[43mdata\u001b[49m\u001b[43m,\u001b[49m\n\u001b[1;32m   2175\u001b[0m \u001b[43m    \u001b[49m\u001b[43mprobability_threshold\u001b[49m\u001b[38;5;241;43m=\u001b[39;49m\u001b[43mprobability_threshold\u001b[49m\u001b[43m,\u001b[49m\n\u001b[1;32m   2176\u001b[0m \u001b[43m    \u001b[49m\u001b[43mencoded_labels\u001b[49m\u001b[38;5;241;43m=\u001b[39;49m\u001b[43mencoded_labels\u001b[49m\u001b[43m,\u001b[49m\n\u001b[1;32m   2177\u001b[0m \u001b[43m    \u001b[49m\u001b[43mraw_score\u001b[49m\u001b[38;5;241;43m=\u001b[39;49m\u001b[43mraw_score\u001b[49m\u001b[43m,\u001b[49m\n\u001b[1;32m   2178\u001b[0m \u001b[43m    \u001b[49m\u001b[38;5;28;43mround\u001b[39;49m\u001b[38;5;241;43m=\u001b[39;49m\u001b[38;5;28;43mround\u001b[39;49m\u001b[43m,\u001b[49m\n\u001b[1;32m   2179\u001b[0m \u001b[43m    \u001b[49m\u001b[43mverbose\u001b[49m\u001b[38;5;241;43m=\u001b[39;49m\u001b[43mverbose\u001b[49m\u001b[43m,\u001b[49m\n\u001b[1;32m   2180\u001b[0m \u001b[43m\u001b[49m\u001b[43m)\u001b[49m\n",
      "File \u001b[0;32m~/miniconda3/envs/automl/lib/python3.9/site-packages/pycaret/classification/oop.py:2824\u001b[0m, in \u001b[0;36mClassificationExperiment.predict_model\u001b[0;34m(self, estimator, data, probability_threshold, encoded_labels, raw_score, round, verbose)\u001b[0m\n\u001b[1;32m   2752\u001b[0m \u001b[38;5;28;01mdef\u001b[39;00m\u001b[38;5;250m \u001b[39m\u001b[38;5;21mpredict_model\u001b[39m(\n\u001b[1;32m   2753\u001b[0m     \u001b[38;5;28mself\u001b[39m,\n\u001b[1;32m   2754\u001b[0m     estimator,\n\u001b[0;32m   (...)\u001b[0m\n\u001b[1;32m   2760\u001b[0m     verbose: \u001b[38;5;28mbool\u001b[39m \u001b[38;5;241m=\u001b[39m \u001b[38;5;28;01mTrue\u001b[39;00m,\n\u001b[1;32m   2761\u001b[0m ) \u001b[38;5;241m-\u001b[39m\u001b[38;5;241m>\u001b[39m pd\u001b[38;5;241m.\u001b[39mDataFrame:\n\u001b[1;32m   2762\u001b[0m \u001b[38;5;250m    \u001b[39m\u001b[38;5;124;03m\"\"\"\u001b[39;00m\n\u001b[1;32m   2763\u001b[0m \u001b[38;5;124;03m    This function predicts ``Label`` and ``Score`` (probability of predicted\u001b[39;00m\n\u001b[1;32m   2764\u001b[0m \u001b[38;5;124;03m    class) using a trained model. When ``data`` is None, it predicts label and\u001b[39;00m\n\u001b[0;32m   (...)\u001b[0m\n\u001b[1;32m   2821\u001b[0m \n\u001b[1;32m   2822\u001b[0m \u001b[38;5;124;03m    \"\"\"\u001b[39;00m\n\u001b[0;32m-> 2824\u001b[0m     \u001b[38;5;28;01mreturn\u001b[39;00m \u001b[38;5;28;43msuper\u001b[39;49m\u001b[43m(\u001b[49m\u001b[43m)\u001b[49m\u001b[38;5;241;43m.\u001b[39;49m\u001b[43mpredict_model\u001b[49m\u001b[43m(\u001b[49m\n\u001b[1;32m   2825\u001b[0m \u001b[43m        \u001b[49m\u001b[43mestimator\u001b[49m\u001b[38;5;241;43m=\u001b[39;49m\u001b[43mestimator\u001b[49m\u001b[43m,\u001b[49m\n\u001b[1;32m   2826\u001b[0m \u001b[43m        \u001b[49m\u001b[43mdata\u001b[49m\u001b[38;5;241;43m=\u001b[39;49m\u001b[43mdata\u001b[49m\u001b[43m,\u001b[49m\n\u001b[1;32m   2827\u001b[0m \u001b[43m        \u001b[49m\u001b[43mprobability_threshold\u001b[49m\u001b[38;5;241;43m=\u001b[39;49m\u001b[43mprobability_threshold\u001b[49m\u001b[43m,\u001b[49m\n\u001b[1;32m   2828\u001b[0m \u001b[43m        \u001b[49m\u001b[43mencoded_labels\u001b[49m\u001b[38;5;241;43m=\u001b[39;49m\u001b[43mencoded_labels\u001b[49m\u001b[43m,\u001b[49m\n\u001b[1;32m   2829\u001b[0m \u001b[43m        \u001b[49m\u001b[43mraw_score\u001b[49m\u001b[38;5;241;43m=\u001b[39;49m\u001b[43mraw_score\u001b[49m\u001b[43m,\u001b[49m\n\u001b[1;32m   2830\u001b[0m \u001b[43m        \u001b[49m\u001b[38;5;28;43mround\u001b[39;49m\u001b[38;5;241;43m=\u001b[39;49m\u001b[38;5;28;43mround\u001b[39;49m\u001b[43m,\u001b[49m\n\u001b[1;32m   2831\u001b[0m \u001b[43m        \u001b[49m\u001b[43mverbose\u001b[49m\u001b[38;5;241;43m=\u001b[39;49m\u001b[43mverbose\u001b[49m\u001b[43m,\u001b[49m\n\u001b[1;32m   2832\u001b[0m \u001b[43m    \u001b[49m\u001b[43m)\u001b[49m\n",
      "File \u001b[0;32m~/miniconda3/envs/automl/lib/python3.9/site-packages/pycaret/internal/pycaret_experiment/supervised_experiment.py:4960\u001b[0m, in \u001b[0;36m_SupervisedExperiment.predict_model\u001b[0;34m(self, estimator, data, probability_threshold, encoded_labels, raw_score, round, verbose, ml_usecase, preprocess)\u001b[0m\n\u001b[1;32m   4958\u001b[0m X_test_untransformed \u001b[38;5;241m=\u001b[39m data\n\u001b[1;32m   4959\u001b[0m y_test_untransformed \u001b[38;5;241m=\u001b[39m target\n\u001b[0;32m-> 4960\u001b[0m data \u001b[38;5;241m=\u001b[39m \u001b[43mdata\u001b[49m\u001b[43m[\u001b[49m\u001b[43mX_columns\u001b[49m\u001b[43m]\u001b[49m  \u001b[38;5;66;03m# Ignore all columns but the originals\u001b[39;00m\n\u001b[1;32m   4961\u001b[0m \u001b[38;5;28;01mif\u001b[39;00m preprocess:\n\u001b[1;32m   4962\u001b[0m     X_test_ \u001b[38;5;241m=\u001b[39m pipeline\u001b[38;5;241m.\u001b[39mtransform(\n\u001b[1;32m   4963\u001b[0m         X\u001b[38;5;241m=\u001b[39mdata,\n\u001b[1;32m   4964\u001b[0m         y\u001b[38;5;241m=\u001b[39m(target \u001b[38;5;28;01mif\u001b[39;00m preprocess \u001b[38;5;241m!=\u001b[39m \u001b[38;5;124m\"\u001b[39m\u001b[38;5;124mfeatures\u001b[39m\u001b[38;5;124m\"\u001b[39m \u001b[38;5;28;01melse\u001b[39;00m \u001b[38;5;28;01mNone\u001b[39;00m),\n\u001b[1;32m   4965\u001b[0m     )\n",
      "File \u001b[0;32m~/miniconda3/envs/automl/lib/python3.9/site-packages/pandas/core/frame.py:3899\u001b[0m, in \u001b[0;36mDataFrame.__getitem__\u001b[0;34m(self, key)\u001b[0m\n\u001b[1;32m   3897\u001b[0m     \u001b[38;5;28;01mif\u001b[39;00m is_iterator(key):\n\u001b[1;32m   3898\u001b[0m         key \u001b[38;5;241m=\u001b[39m \u001b[38;5;28mlist\u001b[39m(key)\n\u001b[0;32m-> 3899\u001b[0m     indexer \u001b[38;5;241m=\u001b[39m \u001b[38;5;28;43mself\u001b[39;49m\u001b[38;5;241;43m.\u001b[39;49m\u001b[43mcolumns\u001b[49m\u001b[38;5;241;43m.\u001b[39;49m\u001b[43m_get_indexer_strict\u001b[49m\u001b[43m(\u001b[49m\u001b[43mkey\u001b[49m\u001b[43m,\u001b[49m\u001b[43m \u001b[49m\u001b[38;5;124;43m\"\u001b[39;49m\u001b[38;5;124;43mcolumns\u001b[39;49m\u001b[38;5;124;43m\"\u001b[39;49m\u001b[43m)\u001b[49m[\u001b[38;5;241m1\u001b[39m]\n\u001b[1;32m   3901\u001b[0m \u001b[38;5;66;03m# take() does not accept boolean indexers\u001b[39;00m\n\u001b[1;32m   3902\u001b[0m \u001b[38;5;28;01mif\u001b[39;00m \u001b[38;5;28mgetattr\u001b[39m(indexer, \u001b[38;5;124m\"\u001b[39m\u001b[38;5;124mdtype\u001b[39m\u001b[38;5;124m\"\u001b[39m, \u001b[38;5;28;01mNone\u001b[39;00m) \u001b[38;5;241m==\u001b[39m \u001b[38;5;28mbool\u001b[39m:\n",
      "File \u001b[0;32m~/miniconda3/envs/automl/lib/python3.9/site-packages/pandas/core/indexes/base.py:6115\u001b[0m, in \u001b[0;36mIndex._get_indexer_strict\u001b[0;34m(self, key, axis_name)\u001b[0m\n\u001b[1;32m   6112\u001b[0m \u001b[38;5;28;01melse\u001b[39;00m:\n\u001b[1;32m   6113\u001b[0m     keyarr, indexer, new_indexer \u001b[38;5;241m=\u001b[39m \u001b[38;5;28mself\u001b[39m\u001b[38;5;241m.\u001b[39m_reindex_non_unique(keyarr)\n\u001b[0;32m-> 6115\u001b[0m \u001b[38;5;28;43mself\u001b[39;49m\u001b[38;5;241;43m.\u001b[39;49m\u001b[43m_raise_if_missing\u001b[49m\u001b[43m(\u001b[49m\u001b[43mkeyarr\u001b[49m\u001b[43m,\u001b[49m\u001b[43m \u001b[49m\u001b[43mindexer\u001b[49m\u001b[43m,\u001b[49m\u001b[43m \u001b[49m\u001b[43maxis_name\u001b[49m\u001b[43m)\u001b[49m\n\u001b[1;32m   6117\u001b[0m keyarr \u001b[38;5;241m=\u001b[39m \u001b[38;5;28mself\u001b[39m\u001b[38;5;241m.\u001b[39mtake(indexer)\n\u001b[1;32m   6118\u001b[0m \u001b[38;5;28;01mif\u001b[39;00m \u001b[38;5;28misinstance\u001b[39m(key, Index):\n\u001b[1;32m   6119\u001b[0m     \u001b[38;5;66;03m# GH 42790 - Preserve name from an Index\u001b[39;00m\n",
      "File \u001b[0;32m~/miniconda3/envs/automl/lib/python3.9/site-packages/pandas/core/indexes/base.py:6179\u001b[0m, in \u001b[0;36mIndex._raise_if_missing\u001b[0;34m(self, key, indexer, axis_name)\u001b[0m\n\u001b[1;32m   6176\u001b[0m     \u001b[38;5;28;01mraise\u001b[39;00m \u001b[38;5;167;01mKeyError\u001b[39;00m(\u001b[38;5;124mf\u001b[39m\u001b[38;5;124m\"\u001b[39m\u001b[38;5;124mNone of [\u001b[39m\u001b[38;5;132;01m{\u001b[39;00mkey\u001b[38;5;132;01m}\u001b[39;00m\u001b[38;5;124m] are in the [\u001b[39m\u001b[38;5;132;01m{\u001b[39;00maxis_name\u001b[38;5;132;01m}\u001b[39;00m\u001b[38;5;124m]\u001b[39m\u001b[38;5;124m\"\u001b[39m)\n\u001b[1;32m   6178\u001b[0m not_found \u001b[38;5;241m=\u001b[39m \u001b[38;5;28mlist\u001b[39m(ensure_index(key)[missing_mask\u001b[38;5;241m.\u001b[39mnonzero()[\u001b[38;5;241m0\u001b[39m]]\u001b[38;5;241m.\u001b[39munique())\n\u001b[0;32m-> 6179\u001b[0m \u001b[38;5;28;01mraise\u001b[39;00m \u001b[38;5;167;01mKeyError\u001b[39;00m(\u001b[38;5;124mf\u001b[39m\u001b[38;5;124m\"\u001b[39m\u001b[38;5;132;01m{\u001b[39;00mnot_found\u001b[38;5;132;01m}\u001b[39;00m\u001b[38;5;124m not in index\u001b[39m\u001b[38;5;124m\"\u001b[39m)\n",
      "\u001b[0;31mKeyError\u001b[0m: \"['고객 ID'] not in index\""
     ]
    }
   ],
   "source": [
    "import pandas as pd\n",
    "from pycaret.classification import load_model, predict_model\n",
    "\n",
    "# 새로운 데이터 생성 (고객 ID 제거)\n",
    "new_data = pd.DataFrame([{\n",
    "    '가입 기간': 12,\n",
    "    '접속 기기': '모바일',\n",
    "    '도시 등급': 'A',\n",
    "    '배송거리': 15.5,\n",
    "    '결제 방식': '신용카드',\n",
    "    '성별': '남성',\n",
    "    '앱 사용 시간': 10.5,\n",
    "    '기기 수': 2,\n",
    "    '주문 카테고리': '식품',\n",
    "    '만족도': 4,\n",
    "    '결혼 여부': '기혼',\n",
    "    '주소 수': 1,\n",
    "    '불만족 여부': '아니오',\n",
    "    '주문 증가율': 0.15,\n",
    "    '쿠폰 수': 3,\n",
    "    '주문 횟수': 25,\n",
    "    '경과일': 30,\n",
    "    '캐시백 금액': 1000\n",
    "}])\n",
    "\n",
    "# 저장된 모델 로드\n",
    "model = load_model('lightgbm_original_model')\n",
    "\n",
    "# 고객 ID 열 제거 (확실히 제거)\n",
    "if '고객 ID' in new_data.columns:\n",
    "    new_data = new_data.drop(columns=['고객 ID'])\n",
    "\n",
    "# 예측 실행\n",
    "predictions = predict_model(model, data=new_data)\n",
    "\n",
    "# 결과 출력\n",
    "print(predictions)\n"
   ]
  },
  {
   "cell_type": "code",
   "execution_count": 23,
   "metadata": {},
   "outputs": [
    {
     "name": "stdout",
     "output_type": "stream",
     "text": [
      "Transformation Pipeline and Model Successfully Loaded\n"
     ]
    },
    {
     "data": {
      "text/html": [],
      "text/plain": [
       "<IPython.core.display.HTML object>"
      ]
     },
     "metadata": {},
     "output_type": "display_data"
    },
    {
     "name": "stdout",
     "output_type": "stream",
     "text": [
      "    고객 ID  가입 기간   접속 기기 도시 등급  배송거리 결제 방식    성별  앱 사용 시간  기기 수  주문 카테고리  ...  \\\n",
      "0  112345     12  Mobile     4    15    CC  male     10.5     2  Fashion  ...   \n",
      "\n",
      "     결혼 여부 주소 수  불만족 여부 주문 증가율  쿠폰 수  주문 횟수  경과일  캐시백 금액  prediction_label  \\\n",
      "0  Married    1       0     11     3     25   30     100                 0   \n",
      "\n",
      "   prediction_score  \n",
      "0            0.8388  \n",
      "\n",
      "[1 rows x 21 columns]\n"
     ]
    }
   ],
   "source": [
    "import pandas as pd\n",
    "from pycaret.classification import load_model, predict_model\n",
    "\n",
    "# 새로운 데이터 생성 (영어 필드 값 유지)\n",
    "new_data = pd.DataFrame([{\n",
    "    '고객 ID': '112345',\n",
    "    '가입 기간': 12,\n",
    "    '접속 기기': 'Mobile',       # 훈련 데이터가 영어라면 'mobile' 유지\n",
    "    '도시 등급': '4',\n",
    "    '배송거리': 15,\n",
    "    '결제 방식': 'CC',      # 빈 값은 'unknown'과 같은 표준 값 사용\n",
    "    '성별': 'male',             # '남성' 대신 'male'\n",
    "    '앱 사용 시간': 10.5,\n",
    "    '기기 수': 2,\n",
    "    '주문 카테고리': 'Fashion',     # '식품' 대신 'food'\n",
    "    '만족도': 4,\n",
    "    '결혼 여부': 'Married',     # '기혼' 대신 'married'\n",
    "    '주소 수': 1,\n",
    "    '불만족 여부': '0',        # '아니오' 대신 'no'\n",
    "    '주문 증가율': 11,\n",
    "    '쿠폰 수': 3,\n",
    "    '주문 횟수': 25,\n",
    "    '경과일': 30,\n",
    "    '캐시백 금액': 100\n",
    "}])\n",
    "\n",
    "# 타겟 열 제거\n",
    "if '이탈 여부' in new_data.columns:\n",
    "    new_data = new_data.drop(columns=['이탈 여부'])\n",
    "\n",
    "# 저장된 모델 로드\n",
    "model = load_model('lightgbm_original_model')\n",
    "\n",
    "# 예측 실행\n",
    "predictions = predict_model(model, data=new_data)\n",
    "\n",
    "# 결과 출력\n",
    "print(predictions)\n"
   ]
  },
  {
   "cell_type": "code",
   "execution_count": 24,
   "metadata": {},
   "outputs": [
    {
     "data": {
      "application/vnd.jupyter.widget-view+json": {
       "model_id": "0781c4d1be654371b77762926974836b",
       "version_major": 2,
       "version_minor": 0
      },
      "text/plain": [
       "interactive(children=(ToggleButtons(description='Plot Type:', icons=('',), options=(('Pipeline Plot', 'pipelin…"
      ]
     },
     "metadata": {},
     "output_type": "display_data"
    },
    {
     "data": {
      "image/png": "[encoded data removed]",
      "text/plain": [
       "<Figure size 800x550 with 1 Axes>"
      ]
     },
     "metadata": {},
     "output_type": "display_data"
    }
   ],
   "source": [
    "from pycaret.classification import evaluate_model\n",
    "\n",
    "# 모델 평가\n",
    "evaluate_model(best_model)\n"
   ]
  },
  {
   "cell_type": "code",
   "execution_count": 29,
   "metadata": {},
   "outputs": [
    {
     "ename": "KeyError",
     "evalue": "\"'이탈 여부' 열이 new_data에 없습니다. 현재 열: ['고객 ID', '가입 기간', '접속 기기', '도시 등급', '배송거리', '결제 방식', '성별', '앱 사용 시간', '기기 수', '주문 카테고리', '만족도', '결혼 여부', '주소 수', '불만족 여부', '주문 증가율', '쿠폰 수', '주문 횟수', '경과일', '캐시백 금액']\"",
     "output_type": "error",
     "traceback": [
      "\u001b[0;31m---------------------------------------------------------------------------\u001b[0m",
      "\u001b[0;31mKeyError\u001b[0m                                  Traceback (most recent call last)",
      "Cell \u001b[0;32mIn[29], line 15\u001b[0m\n\u001b[1;32m     13\u001b[0m     y_true \u001b[38;5;241m=\u001b[39m new_data[\u001b[38;5;124m'\u001b[39m\u001b[38;5;124m이탈 여부\u001b[39m\u001b[38;5;124m'\u001b[39m]  \u001b[38;5;66;03m# 실제 레이블 (이탈 여부)\u001b[39;00m\n\u001b[1;32m     14\u001b[0m \u001b[38;5;28;01melse\u001b[39;00m:\n\u001b[0;32m---> 15\u001b[0m     \u001b[38;5;28;01mraise\u001b[39;00m \u001b[38;5;167;01mKeyError\u001b[39;00m(\u001b[38;5;124m\"\u001b[39m\u001b[38;5;124m'\u001b[39m\u001b[38;5;124m이탈 여부\u001b[39m\u001b[38;5;124m'\u001b[39m\u001b[38;5;124m 열이 new_data에 없습니다. 현재 열: \u001b[39m\u001b[38;5;132;01m{}\u001b[39;00m\u001b[38;5;124m\"\u001b[39m\u001b[38;5;241m.\u001b[39mformat(new_data\u001b[38;5;241m.\u001b[39mcolumns\u001b[38;5;241m.\u001b[39mtolist()))\n\u001b[1;32m     17\u001b[0m \u001b[38;5;66;03m# ROC 곡선 계산\u001b[39;00m\n\u001b[1;32m     18\u001b[0m fpr, tpr, thresholds \u001b[38;5;241m=\u001b[39m roc_curve(y_true, y_scores)\n",
      "\u001b[0;31mKeyError\u001b[0m: \"'이탈 여부' 열이 new_data에 없습니다. 현재 열: ['고객 ID', '가입 기간', '접속 기기', '도시 등급', '배송거리', '결제 방식', '성별', '앱 사용 시간', '기기 수', '주문 카테고리', '만족도', '결혼 여부', '주소 수', '불만족 여부', '주문 증가율', '쿠폰 수', '주문 횟수', '경과일', '캐시백 금액']\""
     ]
    }
   ],
   "source": [
    "import matplotlib.pyplot as plt\n",
    "from sklearn.metrics import roc_curve, auc\n",
    "\n",
    "# 예측 확률 추출\n",
    "if 'prediction_score' in predictions.columns:\n",
    "    y_scores = predictions['prediction_score']  # 예측 결과에서 확률 점수 추출\n",
    "else:\n",
    "    # 'prediction_score' 열이 없을 경우, 예측 결과를 확인하고 적절한 열 이름으로 대체\n",
    "    raise KeyError(\"예측 결과에 'prediction_score' 열이 없습니다. 현재 열: {}\".format(predictions.columns.tolist()))\n",
    "\n",
    "# '이탈 여부' 열이 new_data에 존재하는지 확인\n",
    "if '이탈 여부' in new_data.columns:\n",
    "    y_true = new_data['이탈 여부']  # 실제 레이블 (이탈 여부)\n",
    "else:\n",
    "    raise KeyError(\"'이탈 여부' 열이 new_data에 없습니다. 현재 열: {}\".format(new_data.columns.tolist()))\n",
    "\n",
    "# ROC 곡선 계산\n",
    "fpr, tpr, thresholds = roc_curve(y_true, y_scores)\n",
    "roc_auc = auc(fpr, tpr)\n",
    "\n",
    "# ROC 곡선 시각화\n",
    "plt.figure(figsize=(10, 6))\n",
    "plt.plot(fpr, tpr, color='blue', label='ROC 곡선 (AUC = {:.2f})'.format(roc_auc))\n",
    "plt.plot([0, 1], [0, 1], color='red', linestyle='--')\n",
    "plt.xlim([0.0, 1.0])\n",
    "plt.ylim([0.0, 1.05])\n",
    "plt.xlabel('거짓 양성 비율 (FPR)')\n",
    "plt.ylabel('진짜 양성 비율 (TPR)')\n",
    "plt.title('수신자 조작 특성 곡선 (ROC 곡선)')\n",
    "plt.legend(loc='lower right')\n",
    "plt.grid()\n",
    "plt.show()\n"
   ]
  }
 ],
 "metadata": {
  "kernelspec": {
   "display_name": "automl",
   "language": "python",
   "name": "python3"
  },
  "language_info": {
   "codemirror_mode": {
    "name": "ipython",
    "version": 3
   },
   "file_extension": ".py",
   "mimetype": "text/x-python",
   "name": "python",
   "nbconvert_exporter": "python",
   "pygments_lexer": "ipython3",
   "version": "3.9.21"
  }
 },
 "nbformat": 4,
 "nbformat_minor": 2
}
