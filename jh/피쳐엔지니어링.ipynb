{
 "cells": [
  {
   "cell_type": "code",
   "execution_count": null,
   "metadata": {},
   "outputs": [],
   "source": [
    "# 피쳐 엔지니어링.ipynb\n",
    "\n",
    "import pandas as pd\n",
    "import matplotlib.pyplot as plt\n",
    "import seaborn as sns\n",
    "import platform\n",
    "from matplotlib import rc\n",
    "\n",
    "if platform.system() == 'Windows':\n",
    "    rc('font', family='Malgun Gothic')  # 윈도우의 경우\n",
    "elif platform.system() == 'Darwin':\n",
    "    rc('font', family='AppleGothic')   # MacOS의 경우\n",
    "else:\n",
    "    rc('font', family='NanumGothic')   # 리눅스의 경우\n",
    "\n",
    "# 데이터 파일 경로 설정\n",
    "file_path = '../정제데이터/쇼핑몰이탈정제.csv'  # 데이터 파일의 경로를 지정하세요.\n",
    "\n",
    "# '도시 등급'을 범주형 데이터로 변경\n",
    "df['도시 등급'] = df['도시 등급'].astype('category')\n",
    "\n",
    "df['고객 ID'] = range(1, len(df) + 1)\n",
    "\n",
    "# 데이터 타입 변경\n",
    "df['가입 기간'] = df['가입 기간'].astype('int8')  # int8로 변경\n",
    "df['배송거리'] = df['배송거리'].astype('int8')  # int8로 변경\n",
    "df['앱 사용 시간'] = df['앱 사용 시간'].astype('int8')  # int8로 변경\n",
    "df['기기 수'] = df['기기 수'].astype('int8')  # int8로 변경\n",
    "df['만족도'] = df['만족도'].astype('int8')  # int8로 변경\n",
    "df['주소 수'] = df['주소 수'].astype('int8')  # int8로 변경\n",
    "df['불만족 여부'] = df['불만족 여부'].astype('int8')  # int8로 변경\n",
    "df['주문 증가율'] = df['주문 증가율'].astype('int8')  # int8로 변경\n",
    "df['쿠폰 수'] = df['쿠폰 수'].astype('int8')  # int8로 변경\n",
    "df['주문 횟수'] = df['주문 횟수'].astype('int8')  # int8로 변경\n",
    "df['경과일'] = df['경과일'].astype('int8')  # int8로 변경\n",
    "df['이탈 여부'] = df['이탈 여부'].astype('int8')  # int8으로 변경\n",
    "df['고객 ID'] = df['고객 ID'].astype('int16')  # int16으로 변경\n",
    "df['캐시백 금액'] = df['캐시백 금액'].astype('int16')  # int16으로 변경\n",
    "\n",
    "# 데이터 타입 확인\n",
    "df.info()\n"
   ]
  }
 ],
 "metadata": {
  "kernelspec": {
   "display_name": "0105",
   "language": "python",
   "name": "python3"
  },
  "language_info": {
   "codemirror_mode": {
    "name": "ipython",
    "version": 3
   },
   "file_extension": ".py",
   "mimetype": "text/x-python",
   "name": "python",
   "nbconvert_exporter": "python",
   "pygments_lexer": "ipython3",
   "version": "3.10.13"
  }
 },
 "nbformat": 4,
 "nbformat_minor": 2
}
